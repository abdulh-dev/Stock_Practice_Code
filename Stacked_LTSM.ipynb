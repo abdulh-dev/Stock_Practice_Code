{
 "cells": [
  {
   "cell_type": "code",
   "execution_count": 1,
   "id": "baedc83b",
   "metadata": {},
   "outputs": [],
   "source": [
    "import os\n",
    "import pandas_datareader as pdr\n",
    "#Updates to concat but lack of updates on pandas_datareader have led to an inconsistency when using get_data_tiingo \n",
    "#so to get around this we need to shift to an even older version of python or just use something besides tiingo"
   ]
  },
  {
   "cell_type": "code",
   "execution_count": 2,
   "id": "1b0ef9ca",
   "metadata": {},
   "outputs": [],
   "source": [
    "key='4733d84f8998dfa942eb4db2c62d1712431f4b3d'"
   ]
  },
  {
   "cell_type": "code",
   "execution_count": 3,
   "id": "90d14bf4",
   "metadata": {},
   "outputs": [
    {
     "name": "stderr",
     "output_type": "stream",
     "text": [
      "C:\\Users\\abdul\\AppData\\Local\\Temp\\ipykernel_14268\\276766729.py:1: FutureWarning: In a future version of pandas all arguments of concat except for the argument 'objs' will be keyword-only.\n",
      "  df = pdr.get_data_tiingo('AAPL',api_key='4733d84f8998dfa942eb4db2c62d1712431f4b3d')\n"
     ]
    }
   ],
   "source": [
    "df = pdr.get_data_tiingo('AAPL',api_key='4733d84f8998dfa942eb4db2c62d1712431f4b3d')"
   ]
  },
  {
   "cell_type": "code",
   "execution_count": 4,
   "id": "ff345c95",
   "metadata": {},
   "outputs": [],
   "source": [
    "df.to_csv('AAPL.csv')"
   ]
  },
  {
   "cell_type": "code",
   "execution_count": 5,
   "id": "43c35efc",
   "metadata": {},
   "outputs": [],
   "source": [
    "import pandas as pd"
   ]
  },
  {
   "cell_type": "code",
   "execution_count": 6,
   "id": "c4cca777",
   "metadata": {},
   "outputs": [],
   "source": [
    "df = pd.read_csv('AAPL.csv')"
   ]
  },
  {
   "cell_type": "code",
   "execution_count": 7,
   "id": "faf29fa1",
   "metadata": {},
   "outputs": [
    {
     "data": {
      "text/html": [
       "<div>\n",
       "<style scoped>\n",
       "    .dataframe tbody tr th:only-of-type {\n",
       "        vertical-align: middle;\n",
       "    }\n",
       "\n",
       "    .dataframe tbody tr th {\n",
       "        vertical-align: top;\n",
       "    }\n",
       "\n",
       "    .dataframe thead th {\n",
       "        text-align: right;\n",
       "    }\n",
       "</style>\n",
       "<table border=\"1\" class=\"dataframe\">\n",
       "  <thead>\n",
       "    <tr style=\"text-align: right;\">\n",
       "      <th></th>\n",
       "      <th>symbol</th>\n",
       "      <th>date</th>\n",
       "      <th>close</th>\n",
       "      <th>high</th>\n",
       "      <th>low</th>\n",
       "      <th>open</th>\n",
       "      <th>volume</th>\n",
       "      <th>adjClose</th>\n",
       "      <th>adjHigh</th>\n",
       "      <th>adjLow</th>\n",
       "      <th>adjOpen</th>\n",
       "      <th>adjVolume</th>\n",
       "      <th>divCash</th>\n",
       "      <th>splitFactor</th>\n",
       "    </tr>\n",
       "  </thead>\n",
       "  <tbody>\n",
       "    <tr>\n",
       "      <th>0</th>\n",
       "      <td>AAPL</td>\n",
       "      <td>2018-09-17 00:00:00+00:00</td>\n",
       "      <td>217.88</td>\n",
       "      <td>222.95</td>\n",
       "      <td>217.27</td>\n",
       "      <td>222.15</td>\n",
       "      <td>37195133</td>\n",
       "      <td>52.163924</td>\n",
       "      <td>53.377763</td>\n",
       "      <td>52.017881</td>\n",
       "      <td>53.186230</td>\n",
       "      <td>148780532</td>\n",
       "      <td>0.0</td>\n",
       "      <td>1.0</td>\n",
       "    </tr>\n",
       "    <tr>\n",
       "      <th>1</th>\n",
       "      <td>AAPL</td>\n",
       "      <td>2018-09-18 00:00:00+00:00</td>\n",
       "      <td>218.24</td>\n",
       "      <td>221.85</td>\n",
       "      <td>217.12</td>\n",
       "      <td>217.79</td>\n",
       "      <td>31571712</td>\n",
       "      <td>52.250114</td>\n",
       "      <td>53.114405</td>\n",
       "      <td>51.981968</td>\n",
       "      <td>52.142377</td>\n",
       "      <td>126286848</td>\n",
       "      <td>0.0</td>\n",
       "      <td>1.0</td>\n",
       "    </tr>\n",
       "    <tr>\n",
       "      <th>2</th>\n",
       "      <td>AAPL</td>\n",
       "      <td>2018-09-19 00:00:00+00:00</td>\n",
       "      <td>218.37</td>\n",
       "      <td>219.62</td>\n",
       "      <td>215.30</td>\n",
       "      <td>218.50</td>\n",
       "      <td>27123833</td>\n",
       "      <td>52.281238</td>\n",
       "      <td>52.580508</td>\n",
       "      <td>51.546231</td>\n",
       "      <td>52.312362</td>\n",
       "      <td>108495332</td>\n",
       "      <td>0.0</td>\n",
       "      <td>1.0</td>\n",
       "    </tr>\n",
       "    <tr>\n",
       "      <th>3</th>\n",
       "      <td>AAPL</td>\n",
       "      <td>2018-09-20 00:00:00+00:00</td>\n",
       "      <td>220.03</td>\n",
       "      <td>222.28</td>\n",
       "      <td>219.15</td>\n",
       "      <td>220.24</td>\n",
       "      <td>26608794</td>\n",
       "      <td>52.678668</td>\n",
       "      <td>53.217354</td>\n",
       "      <td>52.467982</td>\n",
       "      <td>52.728946</td>\n",
       "      <td>106435176</td>\n",
       "      <td>0.0</td>\n",
       "      <td>1.0</td>\n",
       "    </tr>\n",
       "    <tr>\n",
       "      <th>4</th>\n",
       "      <td>AAPL</td>\n",
       "      <td>2018-09-21 00:00:00+00:00</td>\n",
       "      <td>217.66</td>\n",
       "      <td>221.36</td>\n",
       "      <td>217.29</td>\n",
       "      <td>220.78</td>\n",
       "      <td>96246748</td>\n",
       "      <td>52.111253</td>\n",
       "      <td>52.997091</td>\n",
       "      <td>52.022669</td>\n",
       "      <td>52.858230</td>\n",
       "      <td>384986992</td>\n",
       "      <td>0.0</td>\n",
       "      <td>1.0</td>\n",
       "    </tr>\n",
       "  </tbody>\n",
       "</table>\n",
       "</div>"
      ],
      "text/plain": [
       "  symbol                       date   close    high     low    open    volume  \\\n",
       "0   AAPL  2018-09-17 00:00:00+00:00  217.88  222.95  217.27  222.15  37195133   \n",
       "1   AAPL  2018-09-18 00:00:00+00:00  218.24  221.85  217.12  217.79  31571712   \n",
       "2   AAPL  2018-09-19 00:00:00+00:00  218.37  219.62  215.30  218.50  27123833   \n",
       "3   AAPL  2018-09-20 00:00:00+00:00  220.03  222.28  219.15  220.24  26608794   \n",
       "4   AAPL  2018-09-21 00:00:00+00:00  217.66  221.36  217.29  220.78  96246748   \n",
       "\n",
       "    adjClose    adjHigh     adjLow    adjOpen  adjVolume  divCash  splitFactor  \n",
       "0  52.163924  53.377763  52.017881  53.186230  148780532      0.0          1.0  \n",
       "1  52.250114  53.114405  51.981968  52.142377  126286848      0.0          1.0  \n",
       "2  52.281238  52.580508  51.546231  52.312362  108495332      0.0          1.0  \n",
       "3  52.678668  53.217354  52.467982  52.728946  106435176      0.0          1.0  \n",
       "4  52.111253  52.997091  52.022669  52.858230  384986992      0.0          1.0  "
      ]
     },
     "execution_count": 7,
     "metadata": {},
     "output_type": "execute_result"
    }
   ],
   "source": [
    "df.head()"
   ]
  },
  {
   "cell_type": "code",
   "execution_count": 8,
   "id": "b1b72579",
   "metadata": {},
   "outputs": [
    {
     "data": {
      "text/html": [
       "<div>\n",
       "<style scoped>\n",
       "    .dataframe tbody tr th:only-of-type {\n",
       "        vertical-align: middle;\n",
       "    }\n",
       "\n",
       "    .dataframe tbody tr th {\n",
       "        vertical-align: top;\n",
       "    }\n",
       "\n",
       "    .dataframe thead th {\n",
       "        text-align: right;\n",
       "    }\n",
       "</style>\n",
       "<table border=\"1\" class=\"dataframe\">\n",
       "  <thead>\n",
       "    <tr style=\"text-align: right;\">\n",
       "      <th></th>\n",
       "      <th>symbol</th>\n",
       "      <th>date</th>\n",
       "      <th>close</th>\n",
       "      <th>high</th>\n",
       "      <th>low</th>\n",
       "      <th>open</th>\n",
       "      <th>volume</th>\n",
       "      <th>adjClose</th>\n",
       "      <th>adjHigh</th>\n",
       "      <th>adjLow</th>\n",
       "      <th>adjOpen</th>\n",
       "      <th>adjVolume</th>\n",
       "      <th>divCash</th>\n",
       "      <th>splitFactor</th>\n",
       "    </tr>\n",
       "  </thead>\n",
       "  <tbody>\n",
       "    <tr>\n",
       "      <th>1252</th>\n",
       "      <td>AAPL</td>\n",
       "      <td>2023-09-08 00:00:00+00:00</td>\n",
       "      <td>178.18</td>\n",
       "      <td>180.239</td>\n",
       "      <td>177.79</td>\n",
       "      <td>178.35</td>\n",
       "      <td>65602066</td>\n",
       "      <td>178.18</td>\n",
       "      <td>180.239</td>\n",
       "      <td>177.79</td>\n",
       "      <td>178.35</td>\n",
       "      <td>65602066</td>\n",
       "      <td>0.0</td>\n",
       "      <td>1.0</td>\n",
       "    </tr>\n",
       "    <tr>\n",
       "      <th>1253</th>\n",
       "      <td>AAPL</td>\n",
       "      <td>2023-09-11 00:00:00+00:00</td>\n",
       "      <td>179.36</td>\n",
       "      <td>180.300</td>\n",
       "      <td>177.34</td>\n",
       "      <td>180.07</td>\n",
       "      <td>58953052</td>\n",
       "      <td>179.36</td>\n",
       "      <td>180.300</td>\n",
       "      <td>177.34</td>\n",
       "      <td>180.07</td>\n",
       "      <td>58953052</td>\n",
       "      <td>0.0</td>\n",
       "      <td>1.0</td>\n",
       "    </tr>\n",
       "    <tr>\n",
       "      <th>1254</th>\n",
       "      <td>AAPL</td>\n",
       "      <td>2023-09-12 00:00:00+00:00</td>\n",
       "      <td>176.30</td>\n",
       "      <td>180.130</td>\n",
       "      <td>174.82</td>\n",
       "      <td>179.49</td>\n",
       "      <td>90370192</td>\n",
       "      <td>176.30</td>\n",
       "      <td>180.130</td>\n",
       "      <td>174.82</td>\n",
       "      <td>179.49</td>\n",
       "      <td>90370192</td>\n",
       "      <td>0.0</td>\n",
       "      <td>1.0</td>\n",
       "    </tr>\n",
       "    <tr>\n",
       "      <th>1255</th>\n",
       "      <td>AAPL</td>\n",
       "      <td>2023-09-13 00:00:00+00:00</td>\n",
       "      <td>174.21</td>\n",
       "      <td>177.300</td>\n",
       "      <td>173.98</td>\n",
       "      <td>176.51</td>\n",
       "      <td>84267928</td>\n",
       "      <td>174.21</td>\n",
       "      <td>177.300</td>\n",
       "      <td>173.98</td>\n",
       "      <td>176.51</td>\n",
       "      <td>84267928</td>\n",
       "      <td>0.0</td>\n",
       "      <td>1.0</td>\n",
       "    </tr>\n",
       "    <tr>\n",
       "      <th>1256</th>\n",
       "      <td>AAPL</td>\n",
       "      <td>2023-09-14 00:00:00+00:00</td>\n",
       "      <td>175.74</td>\n",
       "      <td>176.100</td>\n",
       "      <td>173.58</td>\n",
       "      <td>174.00</td>\n",
       "      <td>60895757</td>\n",
       "      <td>175.74</td>\n",
       "      <td>176.100</td>\n",
       "      <td>173.58</td>\n",
       "      <td>174.00</td>\n",
       "      <td>60895757</td>\n",
       "      <td>0.0</td>\n",
       "      <td>1.0</td>\n",
       "    </tr>\n",
       "  </tbody>\n",
       "</table>\n",
       "</div>"
      ],
      "text/plain": [
       "     symbol                       date   close     high     low    open  \\\n",
       "1252   AAPL  2023-09-08 00:00:00+00:00  178.18  180.239  177.79  178.35   \n",
       "1253   AAPL  2023-09-11 00:00:00+00:00  179.36  180.300  177.34  180.07   \n",
       "1254   AAPL  2023-09-12 00:00:00+00:00  176.30  180.130  174.82  179.49   \n",
       "1255   AAPL  2023-09-13 00:00:00+00:00  174.21  177.300  173.98  176.51   \n",
       "1256   AAPL  2023-09-14 00:00:00+00:00  175.74  176.100  173.58  174.00   \n",
       "\n",
       "        volume  adjClose  adjHigh  adjLow  adjOpen  adjVolume  divCash  \\\n",
       "1252  65602066    178.18  180.239  177.79   178.35   65602066      0.0   \n",
       "1253  58953052    179.36  180.300  177.34   180.07   58953052      0.0   \n",
       "1254  90370192    176.30  180.130  174.82   179.49   90370192      0.0   \n",
       "1255  84267928    174.21  177.300  173.98   176.51   84267928      0.0   \n",
       "1256  60895757    175.74  176.100  173.58   174.00   60895757      0.0   \n",
       "\n",
       "      splitFactor  \n",
       "1252          1.0  \n",
       "1253          1.0  \n",
       "1254          1.0  \n",
       "1255          1.0  \n",
       "1256          1.0  "
      ]
     },
     "execution_count": 8,
     "metadata": {},
     "output_type": "execute_result"
    }
   ],
   "source": [
    "df.tail()"
   ]
  },
  {
   "cell_type": "code",
   "execution_count": 9,
   "id": "9ed923af",
   "metadata": {},
   "outputs": [],
   "source": [
    "df1 = df.reset_index()['close']"
   ]
  },
  {
   "cell_type": "code",
   "execution_count": 10,
   "id": "5da04388",
   "metadata": {},
   "outputs": [
    {
     "data": {
      "text/plain": [
       "0       217.88\n",
       "1       218.24\n",
       "2       218.37\n",
       "3       220.03\n",
       "4       217.66\n",
       "         ...  \n",
       "1252    178.18\n",
       "1253    179.36\n",
       "1254    176.30\n",
       "1255    174.21\n",
       "1256    175.74\n",
       "Name: close, Length: 1257, dtype: float64"
      ]
     },
     "execution_count": 10,
     "metadata": {},
     "output_type": "execute_result"
    }
   ],
   "source": [
    "df1.shape\n",
    "df1"
   ]
  },
  {
   "cell_type": "code",
   "execution_count": 11,
   "id": "f5717efe",
   "metadata": {},
   "outputs": [
    {
     "data": {
      "text/plain": [
       "[<matplotlib.lines.Line2D at 0x1b528c3d950>]"
      ]
     },
     "execution_count": 11,
     "metadata": {},
     "output_type": "execute_result"
    },
    {
     "data": {
      "image/png": "[encoded data removed]",
      "text/plain": [
       "<Figure size 640x480 with 1 Axes>"
      ]
     },
     "metadata": {},
     "output_type": "display_data"
    }
   ],
   "source": [
    "import matplotlib.pyplot as plt\n",
    "plt.plot(df1)"
   ]
  },
  {
   "cell_type": "code",
   "execution_count": 12,
   "id": "48189fba",
   "metadata": {},
   "outputs": [],
   "source": [
    "##Basics done, focus up\n",
    "#LSTM are sensitive to the scale of the data, so we apply MinMax scaler"
   ]
  },
  {
   "cell_type": "code",
   "execution_count": 13,
   "id": "bbce2d13",
   "metadata": {},
   "outputs": [],
   "source": [
    "import numpy as np"
   ]
  },
  {
   "cell_type": "code",
   "execution_count": 14,
   "id": "49a65fc3",
   "metadata": {},
   "outputs": [
    {
     "data": {
      "text/plain": [
       "0       217.88\n",
       "1       218.24\n",
       "2       218.37\n",
       "3       220.03\n",
       "4       217.66\n",
       "         ...  \n",
       "1252    178.18\n",
       "1253    179.36\n",
       "1254    176.30\n",
       "1255    174.21\n",
       "1256    175.74\n",
       "Name: close, Length: 1257, dtype: float64"
      ]
     },
     "execution_count": 14,
     "metadata": {},
     "output_type": "execute_result"
    }
   ],
   "source": [
    "df1"
   ]
  },
  {
   "cell_type": "code",
   "execution_count": 15,
   "id": "6e9c8d35",
   "metadata": {},
   "outputs": [],
   "source": [
    "from sklearn.preprocessing import MinMaxScaler"
   ]
  },
  {
   "cell_type": "code",
   "execution_count": 16,
   "id": "47c6208d",
   "metadata": {},
   "outputs": [],
   "source": [
    "scaler =MinMaxScaler(feature_range=(0,1))\n",
    "df1 = scaler.fit_transform(np.array(df1).reshape(-1,1))"
   ]
  },
  {
   "cell_type": "code",
   "execution_count": 17,
   "id": "a42c2ea9",
   "metadata": {},
   "outputs": [
    {
     "data": {
      "text/plain": [
       "(1257, 1)"
      ]
     },
     "execution_count": 17,
     "metadata": {},
     "output_type": "execute_result"
    }
   ],
   "source": [
    "df1.shape\n"
   ]
  },
  {
   "cell_type": "code",
   "execution_count": 18,
   "id": "bf65f4c6",
   "metadata": {},
   "outputs": [
    {
     "data": {
      "text/plain": [
       "array([[0.27812148],\n",
       "       [0.27902317],\n",
       "       [0.27934878],\n",
       "       ...,\n",
       "       [0.17397621],\n",
       "       [0.16874139],\n",
       "       [0.17257358]])"
      ]
     },
     "execution_count": 18,
     "metadata": {},
     "output_type": "execute_result"
    }
   ],
   "source": [
    "df1"
   ]
  },
  {
   "cell_type": "code",
   "execution_count": 19,
   "id": "7e7a02b3",
   "metadata": {},
   "outputs": [],
   "source": [
    "#We have now collected the stock data now we move onto Preprocessing the data AKA training and testing\n",
    "#The idea is we train the data set on the first half of the data and we test it on the latter half"
   ]
  },
  {
   "cell_type": "code",
   "execution_count": 20,
   "id": "2780bdbe",
   "metadata": {},
   "outputs": [],
   "source": [
    "#Splitting the data in to training and testing (Note that the training  isze is 65% of the total size)\n",
    "training_size= int(len(df1)*0.65)\n",
    "test_size= len(df1)-training_size\n",
    "train_data,test_data= df1[0:training_size,:],df1[training_size:len(df1),:1]"
   ]
  },
  {
   "cell_type": "code",
   "execution_count": 21,
   "id": "1dbc8589",
   "metadata": {},
   "outputs": [
    {
     "data": {
      "text/plain": [
       "(817, 440)"
      ]
     },
     "execution_count": 21,
     "metadata": {},
     "output_type": "execute_result"
    }
   ],
   "source": [
    "training_size, test_size"
   ]
  },
  {
   "cell_type": "code",
   "execution_count": 22,
   "id": "2fedd2d3",
   "metadata": {},
   "outputs": [
    {
     "data": {
      "text/plain": [
       "(817, 440)"
      ]
     },
     "execution_count": 22,
     "metadata": {},
     "output_type": "execute_result"
    }
   ],
   "source": [
    "len(train_data), len(test_data)"
   ]
  },
  {
   "cell_type": "code",
   "execution_count": 23,
   "id": "ae6bc5e6",
   "metadata": {},
   "outputs": [],
   "source": [
    "import numpy\n",
    "#Convert an array of values into a dataset matrix\n",
    "\n",
    "def create_dataset(dataset, time_step=1):\n",
    "    dataX, dataY = [],[]\n",
    "    for i in range(len(dataset)-time_step-1):\n",
    "        a=dataset[i:(i+time_step),0]\n",
    "        dataX.append(a)\n",
    "        dataY.append(dataset[i+time_step,0])\n",
    "    return numpy.array(dataX), numpy.array(dataY)\n"
   ]
  },
  {
   "cell_type": "code",
   "execution_count": 24,
   "id": "47e43a90",
   "metadata": {},
   "outputs": [],
   "source": [
    "time_step=100\n",
    "X_train, y_train = create_dataset(train_data, time_step)\n",
    "X_test, y_test = create_dataset(test_data, time_step)"
   ]
  },
  {
   "cell_type": "code",
   "execution_count": 25,
   "id": "cddf205e",
   "metadata": {},
   "outputs": [
    {
     "name": "stdout",
     "output_type": "stream",
     "text": [
      "(716, 100)\n",
      "(716,)\n"
     ]
    },
    {
     "data": {
      "text/plain": [
       "(None, None)"
      ]
     },
     "execution_count": 25,
     "metadata": {},
     "output_type": "execute_result"
    }
   ],
   "source": [
    "print(X_train.shape), print(y_train.shape)"
   ]
  },
  {
   "cell_type": "code",
   "execution_count": 26,
   "id": "dd1bc2b1",
   "metadata": {},
   "outputs": [
    {
     "name": "stdout",
     "output_type": "stream",
     "text": [
      "(339, 100)\n",
      "(339,)\n"
     ]
    },
    {
     "data": {
      "text/plain": [
       "(None, None)"
      ]
     },
     "execution_count": 26,
     "metadata": {},
     "output_type": "execute_result"
    }
   ],
   "source": [
    "print(X_test.shape), print(y_test.shape)"
   ]
  },
  {
   "cell_type": "code",
   "execution_count": 27,
   "id": "9d37e227",
   "metadata": {},
   "outputs": [],
   "source": [
    "#reshape input to be [samples, time_steps, feature] which is required for LSTM\n",
    "X_train=X_train.reshape(X_train.shape[0], X_train.shape[1],1)\n",
    "X_test=X_test.reshape(X_test.shape[0], X_test.shape[1],1)"
   ]
  },
  {
   "cell_type": "code",
   "execution_count": 28,
   "id": "367c1db5",
   "metadata": {},
   "outputs": [],
   "source": [
    "###Create the stacked LSTM model\n",
    "from tensorflow.keras.models import Sequential\n",
    "from tensorflow.keras.layers import Dense\n",
    "from tensorflow.keras.layers import LSTM"
   ]
  },
  {
   "cell_type": "code",
   "execution_count": 29,
   "id": "e8f59111",
   "metadata": {},
   "outputs": [],
   "source": [
    "model = Sequential()\n",
    "model.add(LSTM(50, return_sequences=True, input_shape=(100,1)))\n",
    "model.add(LSTM(50,return_sequences=True))\n",
    "model.add(LSTM(50))\n",
    "model.add(Dense(1))\n",
    "model.compile(loss='mean_squared_error',optimizer='adam')"
   ]
  },
  {
   "cell_type": "code",
   "execution_count": 30,
   "id": "778a0030",
   "metadata": {},
   "outputs": [
    {
     "name": "stdout",
     "output_type": "stream",
     "text": [
      "Model: \"sequential\"\n",
      "_________________________________________________________________\n",
      " Layer (type)                Output Shape              Param #   \n",
      "=================================================================\n",
      " lstm (LSTM)                 (None, 100, 50)           10400     \n",
      "                                                                 \n",
      " lstm_1 (LSTM)               (None, 100, 50)           20200     \n",
      "                                                                 \n",
      " lstm_2 (LSTM)               (None, 50)                20200     \n",
      "                                                                 \n",
      " dense (Dense)               (None, 1)                 51        \n",
      "                                                                 \n",
      "=================================================================\n",
      "Total params: 50851 (198.64 KB)\n",
      "Trainable params: 50851 (198.64 KB)\n",
      "Non-trainable params: 0 (0.00 Byte)\n",
      "_________________________________________________________________\n"
     ]
    }
   ],
   "source": [
    "model.summary()"
   ]
  },
  {
   "cell_type": "code",
   "execution_count": 31,
   "id": "6b178c44",
   "metadata": {},
   "outputs": [
    {
     "data": {
      "text/plain": [
       "array([[[0.27812148],\n",
       "        [0.27902317],\n",
       "        [0.27934878],\n",
       "        ...,\n",
       "        [0.16881653],\n",
       "        [0.16055103],\n",
       "        [0.15922354]],\n",
       "\n",
       "       [[0.27902317],\n",
       "        [0.27934878],\n",
       "        [0.28350657],\n",
       "        ...,\n",
       "        [0.16055103],\n",
       "        [0.15922354],\n",
       "        [0.15676894]],\n",
       "\n",
       "       [[0.27934878],\n",
       "        [0.28350657],\n",
       "        [0.27757044],\n",
       "        ...,\n",
       "        [0.15922354],\n",
       "        [0.15676894],\n",
       "        [0.1604258 ]],\n",
       "\n",
       "       ...,\n",
       "\n",
       "       [[0.16881653],\n",
       "        [0.16055103],\n",
       "        [0.15922354],\n",
       "        ...,\n",
       "        [0.23283657],\n",
       "        [0.23268629],\n",
       "        [0.22812774]],\n",
       "\n",
       "       [[0.16055103],\n",
       "        [0.15922354],\n",
       "        [0.15676894],\n",
       "        ...,\n",
       "        [0.23268629],\n",
       "        [0.22812774],\n",
       "        [0.23721979]],\n",
       "\n",
       "       [[0.15922354],\n",
       "        [0.15676894],\n",
       "        [0.1604258 ],\n",
       "        ...,\n",
       "        [0.22812774],\n",
       "        [0.23721979],\n",
       "        [0.24017533]]])"
      ]
     },
     "execution_count": 31,
     "metadata": {},
     "output_type": "execute_result"
    }
   ],
   "source": [
    "X_train[:100]"
   ]
  },
  {
   "cell_type": "code",
   "execution_count": 35,
   "id": "7e7db422",
   "metadata": {
    "scrolled": true
   },
   "outputs": [
    {
     "name": "stdout",
     "output_type": "stream",
     "text": [
      "Epoch 1/100\n",
      "12/12 [==============================] - 18s 469ms/step - loss: 0.0454 - val_loss: 0.0013\n",
      "Epoch 2/100\n",
      "12/12 [==============================] - 4s 299ms/step - loss: 0.0170 - val_loss: 0.0042\n",
      "Epoch 3/100\n",
      "12/12 [==============================] - 3s 246ms/step - loss: 0.0115 - val_loss: 4.8534e-04\n",
      "Epoch 4/100\n",
      "12/12 [==============================] - 3s 244ms/step - loss: 0.0096 - val_loss: 4.7198e-04\n",
      "Epoch 5/100\n",
      "12/12 [==============================] - 3s 243ms/step - loss: 0.0089 - val_loss: 0.0016\n",
      "Epoch 6/100\n",
      "12/12 [==============================] - 3s 254ms/step - loss: 0.0080 - val_loss: 3.8427e-04\n",
      "Epoch 7/100\n",
      "12/12 [==============================] - 3s 250ms/step - loss: 0.0069 - val_loss: 3.0507e-04\n",
      "Epoch 8/100\n",
      "12/12 [==============================] - 3s 234ms/step - loss: 0.0057 - val_loss: 2.8015e-04\n",
      "Epoch 9/100\n",
      "12/12 [==============================] - 3s 258ms/step - loss: 0.0052 - val_loss: 2.9774e-04\n",
      "Epoch 10/100\n",
      "12/12 [==============================] - 3s 250ms/step - loss: 0.0044 - val_loss: 5.8286e-04\n",
      "Epoch 11/100\n",
      "12/12 [==============================] - 3s 233ms/step - loss: 0.0048 - val_loss: 3.0311e-04\n",
      "Epoch 12/100\n",
      "12/12 [==============================] - 3s 286ms/step - loss: 0.0073 - val_loss: 0.0026\n",
      "Epoch 13/100\n",
      "12/12 [==============================] - 3s 241ms/step - loss: 0.0048 - val_loss: 3.5024e-04\n",
      "Epoch 14/100\n",
      "12/12 [==============================] - 3s 230ms/step - loss: 0.0037 - val_loss: 2.6472e-04\n",
      "Epoch 15/100\n",
      "12/12 [==============================] - 3s 229ms/step - loss: 0.0035 - val_loss: 3.2079e-04\n",
      "Epoch 16/100\n",
      "12/12 [==============================] - 3s 231ms/step - loss: 0.0033 - val_loss: 4.1998e-04\n",
      "Epoch 17/100\n",
      "12/12 [==============================] - 3s 227ms/step - loss: 0.0033 - val_loss: 2.4815e-04\n",
      "Epoch 18/100\n",
      "12/12 [==============================] - 3s 230ms/step - loss: 0.0028 - val_loss: 2.8339e-04\n",
      "Epoch 19/100\n",
      "12/12 [==============================] - 3s 229ms/step - loss: 0.0028 - val_loss: 3.8537e-04\n",
      "Epoch 20/100\n",
      "12/12 [==============================] - 3s 237ms/step - loss: 0.0026 - val_loss: 2.4953e-04\n",
      "Epoch 21/100\n",
      "12/12 [==============================] - 3s 226ms/step - loss: 0.0026 - val_loss: 2.7659e-04\n",
      "Epoch 22/100\n",
      "12/12 [==============================] - 3s 224ms/step - loss: 0.0026 - val_loss: 3.4164e-04\n",
      "Epoch 23/100\n",
      "12/12 [==============================] - 3s 225ms/step - loss: 0.0026 - val_loss: 2.4615e-04\n",
      "Epoch 24/100\n",
      "12/12 [==============================] - 3s 228ms/step - loss: 0.0023 - val_loss: 2.3011e-04\n",
      "Epoch 25/100\n",
      "12/12 [==============================] - 3s 227ms/step - loss: 0.0025 - val_loss: 2.3244e-04\n",
      "Epoch 26/100\n",
      "12/12 [==============================] - 3s 254ms/step - loss: 0.0028 - val_loss: 2.3178e-04\n",
      "Epoch 27/100\n",
      "12/12 [==============================] - 3s 228ms/step - loss: 0.0026 - val_loss: 5.7629e-04\n",
      "Epoch 28/100\n",
      "12/12 [==============================] - 3s 232ms/step - loss: 0.0030 - val_loss: 3.3678e-04\n",
      "Epoch 29/100\n",
      "12/12 [==============================] - 3s 245ms/step - loss: 0.0023 - val_loss: 2.4755e-04\n",
      "Epoch 30/100\n",
      "12/12 [==============================] - 3s 242ms/step - loss: 0.0026 - val_loss: 4.0439e-04\n",
      "Epoch 31/100\n",
      "12/12 [==============================] - 3s 230ms/step - loss: 0.0027 - val_loss: 2.3380e-04\n",
      "Epoch 32/100\n",
      "12/12 [==============================] - 3s 280ms/step - loss: 0.0025 - val_loss: 2.9698e-04\n",
      "Epoch 33/100\n",
      "12/12 [==============================] - 3s 272ms/step - loss: 0.0021 - val_loss: 2.5364e-04\n",
      "Epoch 34/100\n",
      "12/12 [==============================] - 3s 221ms/step - loss: 0.0021 - val_loss: 2.3004e-04\n",
      "Epoch 35/100\n",
      "12/12 [==============================] - 3s 228ms/step - loss: 0.0021 - val_loss: 2.6269e-04\n",
      "Epoch 36/100\n",
      "12/12 [==============================] - 3s 230ms/step - loss: 0.0020 - val_loss: 2.2954e-04\n",
      "Epoch 37/100\n",
      "12/12 [==============================] - 3s 230ms/step - loss: 0.0019 - val_loss: 2.4987e-04\n",
      "Epoch 38/100\n",
      "12/12 [==============================] - 3s 225ms/step - loss: 0.0036 - val_loss: 7.5430e-04\n",
      "Epoch 39/100\n",
      "12/12 [==============================] - 3s 225ms/step - loss: 0.0028 - val_loss: 2.6594e-04\n",
      "Epoch 40/100\n",
      "12/12 [==============================] - 3s 224ms/step - loss: 0.0020 - val_loss: 2.3525e-04\n",
      "Epoch 41/100\n",
      "12/12 [==============================] - 3s 227ms/step - loss: 0.0018 - val_loss: 2.6857e-04\n",
      "Epoch 42/100\n",
      "12/12 [==============================] - 3s 239ms/step - loss: 0.0017 - val_loss: 2.3407e-04\n",
      "Epoch 43/100\n",
      "12/12 [==============================] - 3s 253ms/step - loss: 0.0019 - val_loss: 2.8835e-04\n",
      "Epoch 44/100\n",
      "12/12 [==============================] - 3s 235ms/step - loss: 0.0016 - val_loss: 2.2740e-04\n",
      "Epoch 45/100\n",
      "12/12 [==============================] - 3s 249ms/step - loss: 0.0016 - val_loss: 2.4082e-04\n",
      "Epoch 46/100\n",
      "12/12 [==============================] - 3s 226ms/step - loss: 0.0018 - val_loss: 2.4025e-04\n",
      "Epoch 47/100\n",
      "12/12 [==============================] - 3s 226ms/step - loss: 0.0022 - val_loss: 2.8966e-04\n",
      "Epoch 48/100\n",
      "12/12 [==============================] - 3s 229ms/step - loss: 0.0018 - val_loss: 2.9542e-04\n",
      "Epoch 49/100\n",
      "12/12 [==============================] - 3s 241ms/step - loss: 0.0018 - val_loss: 2.3466e-04\n",
      "Epoch 50/100\n",
      "12/12 [==============================] - 3s 231ms/step - loss: 0.0016 - val_loss: 2.8718e-04\n",
      "Epoch 51/100\n",
      "12/12 [==============================] - 3s 229ms/step - loss: 0.0013 - val_loss: 2.4143e-04\n",
      "Epoch 52/100\n",
      "12/12 [==============================] - 3s 229ms/step - loss: 0.0017 - val_loss: 2.6318e-04\n",
      "Epoch 53/100\n",
      "12/12 [==============================] - 3s 240ms/step - loss: 0.0016 - val_loss: 2.3162e-04\n",
      "Epoch 54/100\n",
      "12/12 [==============================] - 3s 261ms/step - loss: 0.0017 - val_loss: 3.7362e-04\n",
      "Epoch 55/100\n",
      "12/12 [==============================] - 3s 229ms/step - loss: 0.0017 - val_loss: 2.5404e-04\n",
      "Epoch 56/100\n",
      "12/12 [==============================] - 3s 227ms/step - loss: 0.0017 - val_loss: 4.2246e-04\n",
      "Epoch 57/100\n",
      "12/12 [==============================] - 3s 226ms/step - loss: 0.0014 - val_loss: 2.4165e-04\n",
      "Epoch 58/100\n",
      "12/12 [==============================] - 3s 226ms/step - loss: 0.0014 - val_loss: 2.3544e-04\n",
      "Epoch 59/100\n",
      "12/12 [==============================] - 3s 227ms/step - loss: 0.0012 - val_loss: 2.3796e-04\n",
      "Epoch 60/100\n",
      "12/12 [==============================] - 3s 233ms/step - loss: 0.0012 - val_loss: 2.7511e-04\n",
      "Epoch 61/100\n",
      "12/12 [==============================] - 3s 231ms/step - loss: 0.0020 - val_loss: 2.5457e-04\n",
      "Epoch 62/100\n",
      "12/12 [==============================] - 3s 229ms/step - loss: 0.0015 - val_loss: 2.3832e-04\n",
      "Epoch 63/100\n",
      "12/12 [==============================] - 3s 228ms/step - loss: 0.0016 - val_loss: 2.4397e-04\n",
      "Epoch 64/100\n",
      "12/12 [==============================] - 3s 231ms/step - loss: 0.0028 - val_loss: 7.4239e-04\n",
      "Epoch 65/100\n",
      "12/12 [==============================] - 3s 258ms/step - loss: 0.0016 - val_loss: 2.8789e-04\n",
      "Epoch 66/100\n",
      "12/12 [==============================] - 3s 261ms/step - loss: 0.0013 - val_loss: 2.3140e-04\n",
      "Epoch 67/100\n",
      "12/12 [==============================] - 3s 232ms/step - loss: 0.0019 - val_loss: 2.3163e-04\n",
      "Epoch 68/100\n",
      "12/12 [==============================] - 3s 256ms/step - loss: 0.0017 - val_loss: 2.7384e-04\n",
      "Epoch 69/100\n",
      "12/12 [==============================] - 3s 207ms/step - loss: 0.0016 - val_loss: 2.5754e-04\n",
      "Epoch 70/100\n",
      "12/12 [==============================] - 2s 175ms/step - loss: 0.0013 - val_loss: 2.2729e-04\n",
      "Epoch 71/100\n",
      "12/12 [==============================] - 2s 190ms/step - loss: 0.0067 - val_loss: 4.9916e-04\n",
      "Epoch 72/100\n",
      "12/12 [==============================] - 3s 292ms/step - loss: 0.0043 - val_loss: 5.6622e-04\n",
      "Epoch 73/100\n",
      "12/12 [==============================] - 3s 235ms/step - loss: 0.0031 - val_loss: 2.4414e-04\n",
      "Epoch 74/100\n",
      "12/12 [==============================] - 3s 231ms/step - loss: 0.0026 - val_loss: 2.0381e-04\n",
      "Epoch 75/100\n",
      "12/12 [==============================] - 3s 232ms/step - loss: 0.0023 - val_loss: 2.4105e-04\n",
      "Epoch 76/100\n",
      "12/12 [==============================] - 3s 243ms/step - loss: 0.0027 - val_loss: 2.2924e-04\n",
      "Epoch 77/100\n",
      "12/12 [==============================] - 3s 240ms/step - loss: 0.0024 - val_loss: 4.7496e-04\n",
      "Epoch 78/100\n"
     ]
    },
    {
     "name": "stdout",
     "output_type": "stream",
     "text": [
      "12/12 [==============================] - 3s 254ms/step - loss: 0.0033 - val_loss: 2.9127e-04\n",
      "Epoch 79/100\n",
      "12/12 [==============================] - 3s 237ms/step - loss: 0.0029 - val_loss: 2.2012e-04\n",
      "Epoch 80/100\n",
      "12/12 [==============================] - 3s 230ms/step - loss: 0.0024 - val_loss: 2.1481e-04\n",
      "Epoch 81/100\n",
      "12/12 [==============================] - 3s 230ms/step - loss: 0.0020 - val_loss: 3.6783e-04\n",
      "Epoch 82/100\n",
      "12/12 [==============================] - 3s 233ms/step - loss: 0.0017 - val_loss: 2.2094e-04\n",
      "Epoch 83/100\n",
      "12/12 [==============================] - 3s 238ms/step - loss: 0.0014 - val_loss: 2.1501e-04\n",
      "Epoch 84/100\n",
      "12/12 [==============================] - 3s 232ms/step - loss: 0.0015 - val_loss: 2.7279e-04\n",
      "Epoch 85/100\n",
      "12/12 [==============================] - 3s 232ms/step - loss: 0.0015 - val_loss: 2.1524e-04\n",
      "Epoch 86/100\n",
      "12/12 [==============================] - 3s 229ms/step - loss: 0.0016 - val_loss: 2.4778e-04\n",
      "Epoch 87/100\n",
      "12/12 [==============================] - 3s 226ms/step - loss: 0.0012 - val_loss: 2.1301e-04\n",
      "Epoch 88/100\n",
      "12/12 [==============================] - 3s 231ms/step - loss: 0.0012 - val_loss: 2.0971e-04\n",
      "Epoch 89/100\n",
      "12/12 [==============================] - 3s 232ms/step - loss: 0.0015 - val_loss: 2.3346e-04\n",
      "Epoch 90/100\n",
      "12/12 [==============================] - 3s 225ms/step - loss: 0.0011 - val_loss: 2.1024e-04\n",
      "Epoch 91/100\n",
      "12/12 [==============================] - 3s 227ms/step - loss: 0.0011 - val_loss: 2.0696e-04\n",
      "Epoch 92/100\n",
      "12/12 [==============================] - 3s 231ms/step - loss: 0.0010 - val_loss: 2.1696e-04\n",
      "Epoch 93/100\n",
      "12/12 [==============================] - 3s 230ms/step - loss: 0.0010 - val_loss: 2.3424e-04\n",
      "Epoch 94/100\n",
      "12/12 [==============================] - 3s 230ms/step - loss: 0.0010 - val_loss: 2.3061e-04\n",
      "Epoch 95/100\n",
      "12/12 [==============================] - 3s 232ms/step - loss: 0.0011 - val_loss: 2.0273e-04\n",
      "Epoch 96/100\n",
      "12/12 [==============================] - 3s 231ms/step - loss: 8.9241e-04 - val_loss: 1.9864e-04\n",
      "Epoch 97/100\n",
      "12/12 [==============================] - 3s 228ms/step - loss: 7.7845e-04 - val_loss: 2.0072e-04\n",
      "Epoch 98/100\n",
      "12/12 [==============================] - 3s 227ms/step - loss: 0.0010 - val_loss: 1.9515e-04\n",
      "Epoch 99/100\n",
      "12/12 [==============================] - 3s 230ms/step - loss: 8.9418e-04 - val_loss: 1.9472e-04\n",
      "Epoch 100/100\n",
      "12/12 [==============================] - 3s 228ms/step - loss: 0.0012 - val_loss: 2.0973e-04\n"
     ]
    },
    {
     "data": {
      "text/plain": [
       "<keras.src.callbacks.History at 0x1b534b54e90>"
      ]
     },
     "execution_count": 35,
     "metadata": {},
     "output_type": "execute_result"
    }
   ],
   "source": [
    "model.fit(X_train,y_train,validation_data=(X_test,y_test),epochs=100,batch_size=64,verbose=1)"
   ]
  },
  {
   "cell_type": "code",
   "execution_count": 36,
   "id": "9a5f67db",
   "metadata": {},
   "outputs": [],
   "source": [
    "#NOw it is time to look towards making the stacked LSTM model\n",
    "#We need to predict the test_data and plot the tests as output\n",
    "#Then we will test it with the real world "
   ]
  },
  {
   "cell_type": "code",
   "execution_count": 37,
   "id": "35fb6279",
   "metadata": {},
   "outputs": [
    {
     "name": "stdout",
     "output_type": "stream",
     "text": [
      "23/23 [==============================] - 3s 47ms/step\n",
      "11/11 [==============================] - 1s 45ms/step\n"
     ]
    }
   ],
   "source": [
    "###Lets do the prediction and check performance metrics\n",
    "train_predict = model.predict(X_train)\n",
    "test_predict = model.predict(X_test)"
   ]
  },
  {
   "cell_type": "code",
   "execution_count": 38,
   "id": "1122f80c",
   "metadata": {},
   "outputs": [],
   "source": [
    "##Transform to original form\n",
    "train_predict = scaler.inverse_transform(train_predict)\n",
    "test_predict = scaler.inverse_transform(test_predict)"
   ]
  },
  {
   "cell_type": "code",
   "execution_count": 39,
   "id": "321d1f03",
   "metadata": {},
   "outputs": [
    {
     "data": {
      "text/plain": [
       "221.2217030606293"
      ]
     },
     "execution_count": 39,
     "metadata": {},
     "output_type": "execute_result"
    }
   ],
   "source": [
    "###Calculate RMSE perofrmance metrics\n",
    "import math\n",
    "from sklearn.metrics import mean_squared_error\n",
    "math.sqrt(mean_squared_error(y_train,train_predict))"
   ]
  },
  {
   "cell_type": "code",
   "execution_count": 42,
   "id": "4de9ddf9",
   "metadata": {},
   "outputs": [
    {
     "data": {
      "text/plain": [
       "157.40502075935893"
      ]
     },
     "execution_count": 42,
     "metadata": {},
     "output_type": "execute_result"
    }
   ],
   "source": [
    "###Test Data RMSE\n",
    "math.sqrt(mean_squared_error(y_test,test_predict))"
   ]
  },
  {
   "cell_type": "code",
   "execution_count": 43,
   "id": "b291ddf6",
   "metadata": {},
   "outputs": [
    {
     "data": {
      "image/png": "[encoded data removed]",
      "text/plain": [
       "<Figure size 640x480 with 1 Axes>"
      ]
     },
     "metadata": {},
     "output_type": "display_data"
    }
   ],
   "source": [
    "##Now we plot \n",
    "#Shift train predictions for plotting \n",
    "look_back=100\n",
    "\n",
    "trainPredictPlot = numpy.empty_like(df1)\n",
    "trainPredictPlot[:,:]=np.nan\n",
    "trainPredictPlot[look_back:len(train_predict)+look_back, :] = train_predict\n",
    "\n",
    "#Shift test predictions for plotting \n",
    "testPredictPlot = numpy.empty_like(df1)\n",
    "testPredictPlot[:,:] = numpy.nan\n",
    "testPredictPlot[len(train_predict)+(look_back*2)+1:len(df1)-1, :] = test_predict\n",
    "\n",
    "#plot baseline and predictions\n",
    "plt.plot(scaler.inverse_transform(df1))\n",
    "plt.plot(trainPredictPlot)\n",
    "plt.plot(testPredictPlot)\n",
    "plt.show()\n"
   ]
  },
  {
   "cell_type": "code",
   "execution_count": 44,
   "id": "e722671b",
   "metadata": {},
   "outputs": [
    {
     "data": {
      "text/plain": [
       "440"
      ]
     },
     "execution_count": 44,
     "metadata": {},
     "output_type": "execute_result"
    }
   ],
   "source": [
    "#Now we try to prdict the future\n",
    "len(test_data)"
   ]
  },
  {
   "cell_type": "code",
   "execution_count": 45,
   "id": "34322a7f",
   "metadata": {},
   "outputs": [
    {
     "data": {
      "text/plain": [
       "(1, 100)"
      ]
     },
     "execution_count": 45,
     "metadata": {},
     "output_type": "execute_result"
    }
   ],
   "source": [
    "x_input=test_data[340:].reshape(1,-1)\n",
    "x_input.shape"
   ]
  },
  {
   "cell_type": "code",
   "execution_count": 46,
   "id": "95ae84ec",
   "metadata": {},
   "outputs": [],
   "source": [
    "temp_input=list(x_input)\n",
    "temp_input=temp_input[0].tolist()"
   ]
  },
  {
   "cell_type": "code",
   "execution_count": 47,
   "id": "713142e6",
   "metadata": {},
   "outputs": [
    {
     "data": {
      "text/plain": [
       "[0.14649968691296178,\n",
       " 0.14259236067626796,\n",
       " 0.14256731371321218,\n",
       " 0.15421415153412643,\n",
       " 0.15739511584220411,\n",
       " 0.15716969317470253,\n",
       " 0.1545397620538509,\n",
       " 0.15180964308077638,\n",
       " 0.1476518472135253,\n",
       " 0.16713838447088286,\n",
       " 0.16696305572949277,\n",
       " 0.16262993112085156,\n",
       " 0.16710081402629928,\n",
       " 0.16758922980588598,\n",
       " 0.16463368816530988,\n",
       " 0.1633813400125234,\n",
       " 0.1633813400125234,\n",
       " 0.16493425172197868,\n",
       " 0.17084533500313087,\n",
       " 0.17112085159674384,\n",
       " 0.1687163431433938,\n",
       " 0.16210394489668123,\n",
       " 0.16280525986224165,\n",
       " 0.1656856606136506,\n",
       " 0.17179711959924854,\n",
       " 0.17648090169067,\n",
       " 0.17635566687539134,\n",
       " 0.1834690043832185,\n",
       " 0.1856230432060112,\n",
       " 0.18219160926737632,\n",
       " 0.18126487163431432,\n",
       " 0.1777833437695679,\n",
       " 0.18467125860989347,\n",
       " 0.18564809016906697,\n",
       " 0.19273638071383836,\n",
       " 0.1915341264871634,\n",
       " 0.19313713212273004,\n",
       " 0.19829680651221032,\n",
       " 0.1955666875391358,\n",
       " 0.1957921102066374,\n",
       " 0.1931621790857858,\n",
       " 0.2007764558547276,\n",
       " 0.19997495303694424,\n",
       " 0.19644333124608637,\n",
       " 0.2034314339386349,\n",
       " 0.2064120225422667,\n",
       " 0.2072636192861615,\n",
       " 0.21823418910457104,\n",
       " 0.21445209768315587,\n",
       " 0.21162179085785848,\n",
       " 0.21282404508453345,\n",
       " 0.20999373825923606,\n",
       " 0.20480901690670006,\n",
       " 0.20348152786474638,\n",
       " 0.20771446462116466,\n",
       " 0.20964308077645577,\n",
       " 0.21001878522229173,\n",
       " 0.21828428303068248,\n",
       " 0.2176330619912335,\n",
       " 0.22106449592986843,\n",
       " 0.21613024420788973,\n",
       " 0.21314965560425791,\n",
       " 0.215178459611772,\n",
       " 0.21735754539762048,\n",
       " 0.21956167814652466,\n",
       " 0.21635566687539132,\n",
       " 0.22289292423293672,\n",
       " 0.22444583594239192,\n",
       " 0.22232936756418276,\n",
       " 0.21475266123982467,\n",
       " 0.21122103944896675,\n",
       " 0.1882279273638071,\n",
       " 0.18036318096430803,\n",
       " 0.18274264245460237,\n",
       " 0.1787100814026299,\n",
       " 0.17815904821540385,\n",
       " 0.17770820288040068,\n",
       " 0.18189104571070758,\n",
       " 0.1768566061365059,\n",
       " 0.1746524733876017,\n",
       " 0.16821540388227924,\n",
       " 0.16944270507200998,\n",
       " 0.17282404508453347,\n",
       " 0.17630557294927984,\n",
       " 0.18604884157795865,\n",
       " 0.17417658108954281,\n",
       " 0.17976205385097055,\n",
       " 0.18371947401377575,\n",
       " 0.1935629304946775,\n",
       " 0.20240450845335,\n",
       " 0.20295554164057605,\n",
       " 0.20693800876643703,\n",
       " 0.20753913587977452,\n",
       " 0.19053224796493418,\n",
       " 0.1771321227301189,\n",
       " 0.17868503443957418,\n",
       " 0.18164057608015027,\n",
       " 0.17397620538509706,\n",
       " 0.16874139010644956,\n",
       " 0.17257357545397617]"
      ]
     },
     "execution_count": 47,
     "metadata": {},
     "output_type": "execute_result"
    }
   ],
   "source": [
    "temp_input #This is the previous 100 days"
   ]
  },
  {
   "cell_type": "code",
   "execution_count": 50,
   "id": "33e21e2b",
   "metadata": {},
   "outputs": [
    {
     "name": "stdout",
     "output_type": "stream",
     "text": [
      "[0.17816165]\n",
      "101\n",
      "1 day input [0.14259236 0.14256731 0.15421415 0.15739512 0.15716969 0.15453976\n",
      " 0.15180964 0.14765185 0.16713838 0.16696306 0.16262993 0.16710081\n",
      " 0.16758923 0.16463369 0.16338134 0.16338134 0.16493425 0.17084534\n",
      " 0.17112085 0.16871634 0.16210394 0.16280526 0.16568566 0.17179712\n",
      " 0.1764809  0.17635567 0.183469   0.18562304 0.18219161 0.18126487\n",
      " 0.17778334 0.18467126 0.18564809 0.19273638 0.19153413 0.19313713\n",
      " 0.19829681 0.19556669 0.19579211 0.19316218 0.20077646 0.19997495\n",
      " 0.19644333 0.20343143 0.20641202 0.20726362 0.21823419 0.2144521\n",
      " 0.21162179 0.21282405 0.20999374 0.20480902 0.20348153 0.20771446\n",
      " 0.20964308 0.21001879 0.21828428 0.21763306 0.2210645  0.21613024\n",
      " 0.21314966 0.21517846 0.21735755 0.21956168 0.21635567 0.22289292\n",
      " 0.22444584 0.22232937 0.21475266 0.21122104 0.18822793 0.18036318\n",
      " 0.18274264 0.17871008 0.17815905 0.1777082  0.18189105 0.17685661\n",
      " 0.17465247 0.1682154  0.16944271 0.17282405 0.17630557 0.18604884\n",
      " 0.17417658 0.17976205 0.18371947 0.19356293 0.20240451 0.20295554\n",
      " 0.20693801 0.20753914 0.19053225 0.17713212 0.17868503 0.18164058\n",
      " 0.17397621 0.16874139 0.17257358 0.17816165]\n",
      "1 day output [[0.17615911]]\n",
      "2 day input [0.14256731 0.15421415 0.15739512 0.15716969 0.15453976 0.15180964\n",
      " 0.14765185 0.16713838 0.16696306 0.16262993 0.16710081 0.16758923\n",
      " 0.16463369 0.16338134 0.16338134 0.16493425 0.17084534 0.17112085\n",
      " 0.16871634 0.16210394 0.16280526 0.16568566 0.17179712 0.1764809\n",
      " 0.17635567 0.183469   0.18562304 0.18219161 0.18126487 0.17778334\n",
      " 0.18467126 0.18564809 0.19273638 0.19153413 0.19313713 0.19829681\n",
      " 0.19556669 0.19579211 0.19316218 0.20077646 0.19997495 0.19644333\n",
      " 0.20343143 0.20641202 0.20726362 0.21823419 0.2144521  0.21162179\n",
      " 0.21282405 0.20999374 0.20480902 0.20348153 0.20771446 0.20964308\n",
      " 0.21001879 0.21828428 0.21763306 0.2210645  0.21613024 0.21314966\n",
      " 0.21517846 0.21735755 0.21956168 0.21635567 0.22289292 0.22444584\n",
      " 0.22232937 0.21475266 0.21122104 0.18822793 0.18036318 0.18274264\n",
      " 0.17871008 0.17815905 0.1777082  0.18189105 0.17685661 0.17465247\n",
      " 0.1682154  0.16944271 0.17282405 0.17630557 0.18604884 0.17417658\n",
      " 0.17976205 0.18371947 0.19356293 0.20240451 0.20295554 0.20693801\n",
      " 0.20753914 0.19053225 0.17713212 0.17868503 0.18164058 0.17397621\n",
      " 0.16874139 0.17257358 0.17816165 0.17615911]\n",
      "2 day output [[0.17475665]]\n",
      "3 day input [0.15421415 0.15739512 0.15716969 0.15453976 0.15180964 0.14765185\n",
      " 0.16713838 0.16696306 0.16262993 0.16710081 0.16758923 0.16463369\n",
      " 0.16338134 0.16338134 0.16493425 0.17084534 0.17112085 0.16871634\n",
      " 0.16210394 0.16280526 0.16568566 0.17179712 0.1764809  0.17635567\n",
      " 0.183469   0.18562304 0.18219161 0.18126487 0.17778334 0.18467126\n",
      " 0.18564809 0.19273638 0.19153413 0.19313713 0.19829681 0.19556669\n",
      " 0.19579211 0.19316218 0.20077646 0.19997495 0.19644333 0.20343143\n",
      " 0.20641202 0.20726362 0.21823419 0.2144521  0.21162179 0.21282405\n",
      " 0.20999374 0.20480902 0.20348153 0.20771446 0.20964308 0.21001879\n",
      " 0.21828428 0.21763306 0.2210645  0.21613024 0.21314966 0.21517846\n",
      " 0.21735755 0.21956168 0.21635567 0.22289292 0.22444584 0.22232937\n",
      " 0.21475266 0.21122104 0.18822793 0.18036318 0.18274264 0.17871008\n",
      " 0.17815905 0.1777082  0.18189105 0.17685661 0.17465247 0.1682154\n",
      " 0.16944271 0.17282405 0.17630557 0.18604884 0.17417658 0.17976205\n",
      " 0.18371947 0.19356293 0.20240451 0.20295554 0.20693801 0.20753914\n",
      " 0.19053225 0.17713212 0.17868503 0.18164058 0.17397621 0.16874139\n",
      " 0.17257358 0.17816165 0.17615911 0.17475665]\n",
      "3 day output [[0.17368081]]\n",
      "4 day input [0.15739512 0.15716969 0.15453976 0.15180964 0.14765185 0.16713838\n",
      " 0.16696306 0.16262993 0.16710081 0.16758923 0.16463369 0.16338134\n",
      " 0.16338134 0.16493425 0.17084534 0.17112085 0.16871634 0.16210394\n",
      " 0.16280526 0.16568566 0.17179712 0.1764809  0.17635567 0.183469\n",
      " 0.18562304 0.18219161 0.18126487 0.17778334 0.18467126 0.18564809\n",
      " 0.19273638 0.19153413 0.19313713 0.19829681 0.19556669 0.19579211\n",
      " 0.19316218 0.20077646 0.19997495 0.19644333 0.20343143 0.20641202\n",
      " 0.20726362 0.21823419 0.2144521  0.21162179 0.21282405 0.20999374\n",
      " 0.20480902 0.20348153 0.20771446 0.20964308 0.21001879 0.21828428\n",
      " 0.21763306 0.2210645  0.21613024 0.21314966 0.21517846 0.21735755\n",
      " 0.21956168 0.21635567 0.22289292 0.22444584 0.22232937 0.21475266\n",
      " 0.21122104 0.18822793 0.18036318 0.18274264 0.17871008 0.17815905\n",
      " 0.1777082  0.18189105 0.17685661 0.17465247 0.1682154  0.16944271\n",
      " 0.17282405 0.17630557 0.18604884 0.17417658 0.17976205 0.18371947\n",
      " 0.19356293 0.20240451 0.20295554 0.20693801 0.20753914 0.19053225\n",
      " 0.17713212 0.17868503 0.18164058 0.17397621 0.16874139 0.17257358\n",
      " 0.17816165 0.17615911 0.17475665 0.17368081]\n",
      "4 day output [[0.17272303]]\n",
      "5 day input [0.15716969 0.15453976 0.15180964 0.14765185 0.16713838 0.16696306\n",
      " 0.16262993 0.16710081 0.16758923 0.16463369 0.16338134 0.16338134\n",
      " 0.16493425 0.17084534 0.17112085 0.16871634 0.16210394 0.16280526\n",
      " 0.16568566 0.17179712 0.1764809  0.17635567 0.183469   0.18562304\n",
      " 0.18219161 0.18126487 0.17778334 0.18467126 0.18564809 0.19273638\n",
      " 0.19153413 0.19313713 0.19829681 0.19556669 0.19579211 0.19316218\n",
      " 0.20077646 0.19997495 0.19644333 0.20343143 0.20641202 0.20726362\n",
      " 0.21823419 0.2144521  0.21162179 0.21282405 0.20999374 0.20480902\n",
      " 0.20348153 0.20771446 0.20964308 0.21001879 0.21828428 0.21763306\n",
      " 0.2210645  0.21613024 0.21314966 0.21517846 0.21735755 0.21956168\n",
      " 0.21635567 0.22289292 0.22444584 0.22232937 0.21475266 0.21122104\n",
      " 0.18822793 0.18036318 0.18274264 0.17871008 0.17815905 0.1777082\n",
      " 0.18189105 0.17685661 0.17465247 0.1682154  0.16944271 0.17282405\n",
      " 0.17630557 0.18604884 0.17417658 0.17976205 0.18371947 0.19356293\n",
      " 0.20240451 0.20295554 0.20693801 0.20753914 0.19053225 0.17713212\n",
      " 0.17868503 0.18164058 0.17397621 0.16874139 0.17257358 0.17816165\n",
      " 0.17615911 0.17475665 0.17368081 0.17272303]\n",
      "5 day output [[0.17176566]]\n",
      "6 day input [0.15453976 0.15180964 0.14765185 0.16713838 0.16696306 0.16262993\n",
      " 0.16710081 0.16758923 0.16463369 0.16338134 0.16338134 0.16493425\n",
      " 0.17084534 0.17112085 0.16871634 0.16210394 0.16280526 0.16568566\n",
      " 0.17179712 0.1764809  0.17635567 0.183469   0.18562304 0.18219161\n",
      " 0.18126487 0.17778334 0.18467126 0.18564809 0.19273638 0.19153413\n",
      " 0.19313713 0.19829681 0.19556669 0.19579211 0.19316218 0.20077646\n",
      " 0.19997495 0.19644333 0.20343143 0.20641202 0.20726362 0.21823419\n",
      " 0.2144521  0.21162179 0.21282405 0.20999374 0.20480902 0.20348153\n",
      " 0.20771446 0.20964308 0.21001879 0.21828428 0.21763306 0.2210645\n",
      " 0.21613024 0.21314966 0.21517846 0.21735755 0.21956168 0.21635567\n",
      " 0.22289292 0.22444584 0.22232937 0.21475266 0.21122104 0.18822793\n",
      " 0.18036318 0.18274264 0.17871008 0.17815905 0.1777082  0.18189105\n",
      " 0.17685661 0.17465247 0.1682154  0.16944271 0.17282405 0.17630557\n",
      " 0.18604884 0.17417658 0.17976205 0.18371947 0.19356293 0.20240451\n",
      " 0.20295554 0.20693801 0.20753914 0.19053225 0.17713212 0.17868503\n",
      " 0.18164058 0.17397621 0.16874139 0.17257358 0.17816165 0.17615911\n",
      " 0.17475665 0.17368081 0.17272303 0.17176566]\n",
      "6 day output [[0.17076018]]\n",
      "7 day input [0.15180964 0.14765185 0.16713838 0.16696306 0.16262993 0.16710081\n",
      " 0.16758923 0.16463369 0.16338134 0.16338134 0.16493425 0.17084534\n",
      " 0.17112085 0.16871634 0.16210394 0.16280526 0.16568566 0.17179712\n",
      " 0.1764809  0.17635567 0.183469   0.18562304 0.18219161 0.18126487\n",
      " 0.17778334 0.18467126 0.18564809 0.19273638 0.19153413 0.19313713\n",
      " 0.19829681 0.19556669 0.19579211 0.19316218 0.20077646 0.19997495\n",
      " 0.19644333 0.20343143 0.20641202 0.20726362 0.21823419 0.2144521\n",
      " 0.21162179 0.21282405 0.20999374 0.20480902 0.20348153 0.20771446\n",
      " 0.20964308 0.21001879 0.21828428 0.21763306 0.2210645  0.21613024\n",
      " 0.21314966 0.21517846 0.21735755 0.21956168 0.21635567 0.22289292\n",
      " 0.22444584 0.22232937 0.21475266 0.21122104 0.18822793 0.18036318\n",
      " 0.18274264 0.17871008 0.17815905 0.1777082  0.18189105 0.17685661\n",
      " 0.17465247 0.1682154  0.16944271 0.17282405 0.17630557 0.18604884\n",
      " 0.17417658 0.17976205 0.18371947 0.19356293 0.20240451 0.20295554\n",
      " 0.20693801 0.20753914 0.19053225 0.17713212 0.17868503 0.18164058\n",
      " 0.17397621 0.16874139 0.17257358 0.17816165 0.17615911 0.17475665\n",
      " 0.17368081 0.17272303 0.17176566 0.17076018]\n",
      "7 day output [[0.16970009]]\n",
      "8 day input [0.14765185 0.16713838 0.16696306 0.16262993 0.16710081 0.16758923\n",
      " 0.16463369 0.16338134 0.16338134 0.16493425 0.17084534 0.17112085\n",
      " 0.16871634 0.16210394 0.16280526 0.16568566 0.17179712 0.1764809\n",
      " 0.17635567 0.183469   0.18562304 0.18219161 0.18126487 0.17778334\n",
      " 0.18467126 0.18564809 0.19273638 0.19153413 0.19313713 0.19829681\n",
      " 0.19556669 0.19579211 0.19316218 0.20077646 0.19997495 0.19644333\n",
      " 0.20343143 0.20641202 0.20726362 0.21823419 0.2144521  0.21162179\n",
      " 0.21282405 0.20999374 0.20480902 0.20348153 0.20771446 0.20964308\n",
      " 0.21001879 0.21828428 0.21763306 0.2210645  0.21613024 0.21314966\n",
      " 0.21517846 0.21735755 0.21956168 0.21635567 0.22289292 0.22444584\n",
      " 0.22232937 0.21475266 0.21122104 0.18822793 0.18036318 0.18274264\n",
      " 0.17871008 0.17815905 0.1777082  0.18189105 0.17685661 0.17465247\n",
      " 0.1682154  0.16944271 0.17282405 0.17630557 0.18604884 0.17417658\n",
      " 0.17976205 0.18371947 0.19356293 0.20240451 0.20295554 0.20693801\n",
      " 0.20753914 0.19053225 0.17713212 0.17868503 0.18164058 0.17397621\n",
      " 0.16874139 0.17257358 0.17816165 0.17615911 0.17475665 0.17368081\n",
      " 0.17272303 0.17176566 0.17076018 0.16970009]\n"
     ]
    },
    {
     "name": "stdout",
     "output_type": "stream",
     "text": [
      "8 day output [[0.16859904]]\n",
      "9 day input [0.16713838 0.16696306 0.16262993 0.16710081 0.16758923 0.16463369\n",
      " 0.16338134 0.16338134 0.16493425 0.17084534 0.17112085 0.16871634\n",
      " 0.16210394 0.16280526 0.16568566 0.17179712 0.1764809  0.17635567\n",
      " 0.183469   0.18562304 0.18219161 0.18126487 0.17778334 0.18467126\n",
      " 0.18564809 0.19273638 0.19153413 0.19313713 0.19829681 0.19556669\n",
      " 0.19579211 0.19316218 0.20077646 0.19997495 0.19644333 0.20343143\n",
      " 0.20641202 0.20726362 0.21823419 0.2144521  0.21162179 0.21282405\n",
      " 0.20999374 0.20480902 0.20348153 0.20771446 0.20964308 0.21001879\n",
      " 0.21828428 0.21763306 0.2210645  0.21613024 0.21314966 0.21517846\n",
      " 0.21735755 0.21956168 0.21635567 0.22289292 0.22444584 0.22232937\n",
      " 0.21475266 0.21122104 0.18822793 0.18036318 0.18274264 0.17871008\n",
      " 0.17815905 0.1777082  0.18189105 0.17685661 0.17465247 0.1682154\n",
      " 0.16944271 0.17282405 0.17630557 0.18604884 0.17417658 0.17976205\n",
      " 0.18371947 0.19356293 0.20240451 0.20295554 0.20693801 0.20753914\n",
      " 0.19053225 0.17713212 0.17868503 0.18164058 0.17397621 0.16874139\n",
      " 0.17257358 0.17816165 0.17615911 0.17475665 0.17368081 0.17272303\n",
      " 0.17176566 0.17076018 0.16970009 0.16859904]\n",
      "9 day output [[0.1674777]]\n",
      "10 day input [0.16696306 0.16262993 0.16710081 0.16758923 0.16463369 0.16338134\n",
      " 0.16338134 0.16493425 0.17084534 0.17112085 0.16871634 0.16210394\n",
      " 0.16280526 0.16568566 0.17179712 0.1764809  0.17635567 0.183469\n",
      " 0.18562304 0.18219161 0.18126487 0.17778334 0.18467126 0.18564809\n",
      " 0.19273638 0.19153413 0.19313713 0.19829681 0.19556669 0.19579211\n",
      " 0.19316218 0.20077646 0.19997495 0.19644333 0.20343143 0.20641202\n",
      " 0.20726362 0.21823419 0.2144521  0.21162179 0.21282405 0.20999374\n",
      " 0.20480902 0.20348153 0.20771446 0.20964308 0.21001879 0.21828428\n",
      " 0.21763306 0.2210645  0.21613024 0.21314966 0.21517846 0.21735755\n",
      " 0.21956168 0.21635567 0.22289292 0.22444584 0.22232937 0.21475266\n",
      " 0.21122104 0.18822793 0.18036318 0.18274264 0.17871008 0.17815905\n",
      " 0.1777082  0.18189105 0.17685661 0.17465247 0.1682154  0.16944271\n",
      " 0.17282405 0.17630557 0.18604884 0.17417658 0.17976205 0.18371947\n",
      " 0.19356293 0.20240451 0.20295554 0.20693801 0.20753914 0.19053225\n",
      " 0.17713212 0.17868503 0.18164058 0.17397621 0.16874139 0.17257358\n",
      " 0.17816165 0.17615911 0.17475665 0.17368081 0.17272303 0.17176566\n",
      " 0.17076018 0.16970009 0.16859904 0.1674777 ]\n",
      "10 day output [[0.16635633]]\n",
      "11 day input [0.16262993 0.16710081 0.16758923 0.16463369 0.16338134 0.16338134\n",
      " 0.16493425 0.17084534 0.17112085 0.16871634 0.16210394 0.16280526\n",
      " 0.16568566 0.17179712 0.1764809  0.17635567 0.183469   0.18562304\n",
      " 0.18219161 0.18126487 0.17778334 0.18467126 0.18564809 0.19273638\n",
      " 0.19153413 0.19313713 0.19829681 0.19556669 0.19579211 0.19316218\n",
      " 0.20077646 0.19997495 0.19644333 0.20343143 0.20641202 0.20726362\n",
      " 0.21823419 0.2144521  0.21162179 0.21282405 0.20999374 0.20480902\n",
      " 0.20348153 0.20771446 0.20964308 0.21001879 0.21828428 0.21763306\n",
      " 0.2210645  0.21613024 0.21314966 0.21517846 0.21735755 0.21956168\n",
      " 0.21635567 0.22289292 0.22444584 0.22232937 0.21475266 0.21122104\n",
      " 0.18822793 0.18036318 0.18274264 0.17871008 0.17815905 0.1777082\n",
      " 0.18189105 0.17685661 0.17465247 0.1682154  0.16944271 0.17282405\n",
      " 0.17630557 0.18604884 0.17417658 0.17976205 0.18371947 0.19356293\n",
      " 0.20240451 0.20295554 0.20693801 0.20753914 0.19053225 0.17713212\n",
      " 0.17868503 0.18164058 0.17397621 0.16874139 0.17257358 0.17816165\n",
      " 0.17615911 0.17475665 0.17368081 0.17272303 0.17176566 0.17076018\n",
      " 0.16970009 0.16859904 0.1674777  0.16635633]\n",
      "11 day output [[0.16525161]]\n",
      "12 day input [0.16710081 0.16758923 0.16463369 0.16338134 0.16338134 0.16493425\n",
      " 0.17084534 0.17112085 0.16871634 0.16210394 0.16280526 0.16568566\n",
      " 0.17179712 0.1764809  0.17635567 0.183469   0.18562304 0.18219161\n",
      " 0.18126487 0.17778334 0.18467126 0.18564809 0.19273638 0.19153413\n",
      " 0.19313713 0.19829681 0.19556669 0.19579211 0.19316218 0.20077646\n",
      " 0.19997495 0.19644333 0.20343143 0.20641202 0.20726362 0.21823419\n",
      " 0.2144521  0.21162179 0.21282405 0.20999374 0.20480902 0.20348153\n",
      " 0.20771446 0.20964308 0.21001879 0.21828428 0.21763306 0.2210645\n",
      " 0.21613024 0.21314966 0.21517846 0.21735755 0.21956168 0.21635567\n",
      " 0.22289292 0.22444584 0.22232937 0.21475266 0.21122104 0.18822793\n",
      " 0.18036318 0.18274264 0.17871008 0.17815905 0.1777082  0.18189105\n",
      " 0.17685661 0.17465247 0.1682154  0.16944271 0.17282405 0.17630557\n",
      " 0.18604884 0.17417658 0.17976205 0.18371947 0.19356293 0.20240451\n",
      " 0.20295554 0.20693801 0.20753914 0.19053225 0.17713212 0.17868503\n",
      " 0.18164058 0.17397621 0.16874139 0.17257358 0.17816165 0.17615911\n",
      " 0.17475665 0.17368081 0.17272303 0.17176566 0.17076018 0.16970009\n",
      " 0.16859904 0.1674777  0.16635633 0.16525161]\n",
      "12 day output [[0.16417518]]\n",
      "13 day input [0.16758923 0.16463369 0.16338134 0.16338134 0.16493425 0.17084534\n",
      " 0.17112085 0.16871634 0.16210394 0.16280526 0.16568566 0.17179712\n",
      " 0.1764809  0.17635567 0.183469   0.18562304 0.18219161 0.18126487\n",
      " 0.17778334 0.18467126 0.18564809 0.19273638 0.19153413 0.19313713\n",
      " 0.19829681 0.19556669 0.19579211 0.19316218 0.20077646 0.19997495\n",
      " 0.19644333 0.20343143 0.20641202 0.20726362 0.21823419 0.2144521\n",
      " 0.21162179 0.21282405 0.20999374 0.20480902 0.20348153 0.20771446\n",
      " 0.20964308 0.21001879 0.21828428 0.21763306 0.2210645  0.21613024\n",
      " 0.21314966 0.21517846 0.21735755 0.21956168 0.21635567 0.22289292\n",
      " 0.22444584 0.22232937 0.21475266 0.21122104 0.18822793 0.18036318\n",
      " 0.18274264 0.17871008 0.17815905 0.1777082  0.18189105 0.17685661\n",
      " 0.17465247 0.1682154  0.16944271 0.17282405 0.17630557 0.18604884\n",
      " 0.17417658 0.17976205 0.18371947 0.19356293 0.20240451 0.20295554\n",
      " 0.20693801 0.20753914 0.19053225 0.17713212 0.17868503 0.18164058\n",
      " 0.17397621 0.16874139 0.17257358 0.17816165 0.17615911 0.17475665\n",
      " 0.17368081 0.17272303 0.17176566 0.17076018 0.16970009 0.16859904\n",
      " 0.1674777  0.16635633 0.16525161 0.16417518]\n",
      "13 day output [[0.16313404]]\n",
      "14 day input [0.16463369 0.16338134 0.16338134 0.16493425 0.17084534 0.17112085\n",
      " 0.16871634 0.16210394 0.16280526 0.16568566 0.17179712 0.1764809\n",
      " 0.17635567 0.183469   0.18562304 0.18219161 0.18126487 0.17778334\n",
      " 0.18467126 0.18564809 0.19273638 0.19153413 0.19313713 0.19829681\n",
      " 0.19556669 0.19579211 0.19316218 0.20077646 0.19997495 0.19644333\n",
      " 0.20343143 0.20641202 0.20726362 0.21823419 0.2144521  0.21162179\n",
      " 0.21282405 0.20999374 0.20480902 0.20348153 0.20771446 0.20964308\n",
      " 0.21001879 0.21828428 0.21763306 0.2210645  0.21613024 0.21314966\n",
      " 0.21517846 0.21735755 0.21956168 0.21635567 0.22289292 0.22444584\n",
      " 0.22232937 0.21475266 0.21122104 0.18822793 0.18036318 0.18274264\n",
      " 0.17871008 0.17815905 0.1777082  0.18189105 0.17685661 0.17465247\n",
      " 0.1682154  0.16944271 0.17282405 0.17630557 0.18604884 0.17417658\n",
      " 0.17976205 0.18371947 0.19356293 0.20240451 0.20295554 0.20693801\n",
      " 0.20753914 0.19053225 0.17713212 0.17868503 0.18164058 0.17397621\n",
      " 0.16874139 0.17257358 0.17816165 0.17615911 0.17475665 0.17368081\n",
      " 0.17272303 0.17176566 0.17076018 0.16970009 0.16859904 0.1674777\n",
      " 0.16635633 0.16525161 0.16417518 0.16313404]\n",
      "14 day output [[0.16213086]]\n",
      "15 day input [0.16338134 0.16338134 0.16493425 0.17084534 0.17112085 0.16871634\n",
      " 0.16210394 0.16280526 0.16568566 0.17179712 0.1764809  0.17635567\n",
      " 0.183469   0.18562304 0.18219161 0.18126487 0.17778334 0.18467126\n",
      " 0.18564809 0.19273638 0.19153413 0.19313713 0.19829681 0.19556669\n",
      " 0.19579211 0.19316218 0.20077646 0.19997495 0.19644333 0.20343143\n",
      " 0.20641202 0.20726362 0.21823419 0.2144521  0.21162179 0.21282405\n",
      " 0.20999374 0.20480902 0.20348153 0.20771446 0.20964308 0.21001879\n",
      " 0.21828428 0.21763306 0.2210645  0.21613024 0.21314966 0.21517846\n",
      " 0.21735755 0.21956168 0.21635567 0.22289292 0.22444584 0.22232937\n",
      " 0.21475266 0.21122104 0.18822793 0.18036318 0.18274264 0.17871008\n",
      " 0.17815905 0.1777082  0.18189105 0.17685661 0.17465247 0.1682154\n",
      " 0.16944271 0.17282405 0.17630557 0.18604884 0.17417658 0.17976205\n",
      " 0.18371947 0.19356293 0.20240451 0.20295554 0.20693801 0.20753914\n",
      " 0.19053225 0.17713212 0.17868503 0.18164058 0.17397621 0.16874139\n",
      " 0.17257358 0.17816165 0.17615911 0.17475665 0.17368081 0.17272303\n",
      " 0.17176566 0.17076018 0.16970009 0.16859904 0.1674777  0.16635633\n",
      " 0.16525161 0.16417518 0.16313404 0.16213086]\n",
      "15 day output [[0.16116479]]\n",
      "16 day input [0.16338134 0.16493425 0.17084534 0.17112085 0.16871634 0.16210394\n",
      " 0.16280526 0.16568566 0.17179712 0.1764809  0.17635567 0.183469\n",
      " 0.18562304 0.18219161 0.18126487 0.17778334 0.18467126 0.18564809\n",
      " 0.19273638 0.19153413 0.19313713 0.19829681 0.19556669 0.19579211\n",
      " 0.19316218 0.20077646 0.19997495 0.19644333 0.20343143 0.20641202\n",
      " 0.20726362 0.21823419 0.2144521  0.21162179 0.21282405 0.20999374\n",
      " 0.20480902 0.20348153 0.20771446 0.20964308 0.21001879 0.21828428\n",
      " 0.21763306 0.2210645  0.21613024 0.21314966 0.21517846 0.21735755\n",
      " 0.21956168 0.21635567 0.22289292 0.22444584 0.22232937 0.21475266\n",
      " 0.21122104 0.18822793 0.18036318 0.18274264 0.17871008 0.17815905\n",
      " 0.1777082  0.18189105 0.17685661 0.17465247 0.1682154  0.16944271\n",
      " 0.17282405 0.17630557 0.18604884 0.17417658 0.17976205 0.18371947\n",
      " 0.19356293 0.20240451 0.20295554 0.20693801 0.20753914 0.19053225\n",
      " 0.17713212 0.17868503 0.18164058 0.17397621 0.16874139 0.17257358\n",
      " 0.17816165 0.17615911 0.17475665 0.17368081 0.17272303 0.17176566\n",
      " 0.17076018 0.16970009 0.16859904 0.1674777  0.16635633 0.16525161\n",
      " 0.16417518 0.16313404 0.16213086 0.16116479]\n"
     ]
    },
    {
     "name": "stdout",
     "output_type": "stream",
     "text": [
      "16 day output [[0.16023251]]\n",
      "17 day input [0.16493425 0.17084534 0.17112085 0.16871634 0.16210394 0.16280526\n",
      " 0.16568566 0.17179712 0.1764809  0.17635567 0.183469   0.18562304\n",
      " 0.18219161 0.18126487 0.17778334 0.18467126 0.18564809 0.19273638\n",
      " 0.19153413 0.19313713 0.19829681 0.19556669 0.19579211 0.19316218\n",
      " 0.20077646 0.19997495 0.19644333 0.20343143 0.20641202 0.20726362\n",
      " 0.21823419 0.2144521  0.21162179 0.21282405 0.20999374 0.20480902\n",
      " 0.20348153 0.20771446 0.20964308 0.21001879 0.21828428 0.21763306\n",
      " 0.2210645  0.21613024 0.21314966 0.21517846 0.21735755 0.21956168\n",
      " 0.21635567 0.22289292 0.22444584 0.22232937 0.21475266 0.21122104\n",
      " 0.18822793 0.18036318 0.18274264 0.17871008 0.17815905 0.1777082\n",
      " 0.18189105 0.17685661 0.17465247 0.1682154  0.16944271 0.17282405\n",
      " 0.17630557 0.18604884 0.17417658 0.17976205 0.18371947 0.19356293\n",
      " 0.20240451 0.20295554 0.20693801 0.20753914 0.19053225 0.17713212\n",
      " 0.17868503 0.18164058 0.17397621 0.16874139 0.17257358 0.17816165\n",
      " 0.17615911 0.17475665 0.17368081 0.17272303 0.17176566 0.17076018\n",
      " 0.16970009 0.16859904 0.1674777  0.16635633 0.16525161 0.16417518\n",
      " 0.16313404 0.16213086 0.16116479 0.16023251]\n",
      "17 day output [[0.15932852]]\n",
      "18 day input [0.17084534 0.17112085 0.16871634 0.16210394 0.16280526 0.16568566\n",
      " 0.17179712 0.1764809  0.17635567 0.183469   0.18562304 0.18219161\n",
      " 0.18126487 0.17778334 0.18467126 0.18564809 0.19273638 0.19153413\n",
      " 0.19313713 0.19829681 0.19556669 0.19579211 0.19316218 0.20077646\n",
      " 0.19997495 0.19644333 0.20343143 0.20641202 0.20726362 0.21823419\n",
      " 0.2144521  0.21162179 0.21282405 0.20999374 0.20480902 0.20348153\n",
      " 0.20771446 0.20964308 0.21001879 0.21828428 0.21763306 0.2210645\n",
      " 0.21613024 0.21314966 0.21517846 0.21735755 0.21956168 0.21635567\n",
      " 0.22289292 0.22444584 0.22232937 0.21475266 0.21122104 0.18822793\n",
      " 0.18036318 0.18274264 0.17871008 0.17815905 0.1777082  0.18189105\n",
      " 0.17685661 0.17465247 0.1682154  0.16944271 0.17282405 0.17630557\n",
      " 0.18604884 0.17417658 0.17976205 0.18371947 0.19356293 0.20240451\n",
      " 0.20295554 0.20693801 0.20753914 0.19053225 0.17713212 0.17868503\n",
      " 0.18164058 0.17397621 0.16874139 0.17257358 0.17816165 0.17615911\n",
      " 0.17475665 0.17368081 0.17272303 0.17176566 0.17076018 0.16970009\n",
      " 0.16859904 0.1674777  0.16635633 0.16525161 0.16417518 0.16313404\n",
      " 0.16213086 0.16116479 0.16023251 0.15932852]\n",
      "18 day output [[0.15844691]]\n",
      "19 day input [0.17112085 0.16871634 0.16210394 0.16280526 0.16568566 0.17179712\n",
      " 0.1764809  0.17635567 0.183469   0.18562304 0.18219161 0.18126487\n",
      " 0.17778334 0.18467126 0.18564809 0.19273638 0.19153413 0.19313713\n",
      " 0.19829681 0.19556669 0.19579211 0.19316218 0.20077646 0.19997495\n",
      " 0.19644333 0.20343143 0.20641202 0.20726362 0.21823419 0.2144521\n",
      " 0.21162179 0.21282405 0.20999374 0.20480902 0.20348153 0.20771446\n",
      " 0.20964308 0.21001879 0.21828428 0.21763306 0.2210645  0.21613024\n",
      " 0.21314966 0.21517846 0.21735755 0.21956168 0.21635567 0.22289292\n",
      " 0.22444584 0.22232937 0.21475266 0.21122104 0.18822793 0.18036318\n",
      " 0.18274264 0.17871008 0.17815905 0.1777082  0.18189105 0.17685661\n",
      " 0.17465247 0.1682154  0.16944271 0.17282405 0.17630557 0.18604884\n",
      " 0.17417658 0.17976205 0.18371947 0.19356293 0.20240451 0.20295554\n",
      " 0.20693801 0.20753914 0.19053225 0.17713212 0.17868503 0.18164058\n",
      " 0.17397621 0.16874139 0.17257358 0.17816165 0.17615911 0.17475665\n",
      " 0.17368081 0.17272303 0.17176566 0.17076018 0.16970009 0.16859904\n",
      " 0.1674777  0.16635633 0.16525161 0.16417518 0.16313404 0.16213086\n",
      " 0.16116479 0.16023251 0.15932852 0.15844691]\n",
      "19 day output [[0.15758088]]\n",
      "20 day input [0.16871634 0.16210394 0.16280526 0.16568566 0.17179712 0.1764809\n",
      " 0.17635567 0.183469   0.18562304 0.18219161 0.18126487 0.17778334\n",
      " 0.18467126 0.18564809 0.19273638 0.19153413 0.19313713 0.19829681\n",
      " 0.19556669 0.19579211 0.19316218 0.20077646 0.19997495 0.19644333\n",
      " 0.20343143 0.20641202 0.20726362 0.21823419 0.2144521  0.21162179\n",
      " 0.21282405 0.20999374 0.20480902 0.20348153 0.20771446 0.20964308\n",
      " 0.21001879 0.21828428 0.21763306 0.2210645  0.21613024 0.21314966\n",
      " 0.21517846 0.21735755 0.21956168 0.21635567 0.22289292 0.22444584\n",
      " 0.22232937 0.21475266 0.21122104 0.18822793 0.18036318 0.18274264\n",
      " 0.17871008 0.17815905 0.1777082  0.18189105 0.17685661 0.17465247\n",
      " 0.1682154  0.16944271 0.17282405 0.17630557 0.18604884 0.17417658\n",
      " 0.17976205 0.18371947 0.19356293 0.20240451 0.20295554 0.20693801\n",
      " 0.20753914 0.19053225 0.17713212 0.17868503 0.18164058 0.17397621\n",
      " 0.16874139 0.17257358 0.17816165 0.17615911 0.17475665 0.17368081\n",
      " 0.17272303 0.17176566 0.17076018 0.16970009 0.16859904 0.1674777\n",
      " 0.16635633 0.16525161 0.16417518 0.16313404 0.16213086 0.16116479\n",
      " 0.16023251 0.15932852 0.15844691 0.15758088]\n",
      "20 day output [[0.15672424]]\n",
      "21 day input [0.16210394 0.16280526 0.16568566 0.17179712 0.1764809  0.17635567\n",
      " 0.183469   0.18562304 0.18219161 0.18126487 0.17778334 0.18467126\n",
      " 0.18564809 0.19273638 0.19153413 0.19313713 0.19829681 0.19556669\n",
      " 0.19579211 0.19316218 0.20077646 0.19997495 0.19644333 0.20343143\n",
      " 0.20641202 0.20726362 0.21823419 0.2144521  0.21162179 0.21282405\n",
      " 0.20999374 0.20480902 0.20348153 0.20771446 0.20964308 0.21001879\n",
      " 0.21828428 0.21763306 0.2210645  0.21613024 0.21314966 0.21517846\n",
      " 0.21735755 0.21956168 0.21635567 0.22289292 0.22444584 0.22232937\n",
      " 0.21475266 0.21122104 0.18822793 0.18036318 0.18274264 0.17871008\n",
      " 0.17815905 0.1777082  0.18189105 0.17685661 0.17465247 0.1682154\n",
      " 0.16944271 0.17282405 0.17630557 0.18604884 0.17417658 0.17976205\n",
      " 0.18371947 0.19356293 0.20240451 0.20295554 0.20693801 0.20753914\n",
      " 0.19053225 0.17713212 0.17868503 0.18164058 0.17397621 0.16874139\n",
      " 0.17257358 0.17816165 0.17615911 0.17475665 0.17368081 0.17272303\n",
      " 0.17176566 0.17076018 0.16970009 0.16859904 0.1674777  0.16635633\n",
      " 0.16525161 0.16417518 0.16313404 0.16213086 0.16116479 0.16023251\n",
      " 0.15932852 0.15844691 0.15758088 0.15672424]\n",
      "21 day output [[0.15587142]]\n",
      "22 day input [0.16280526 0.16568566 0.17179712 0.1764809  0.17635567 0.183469\n",
      " 0.18562304 0.18219161 0.18126487 0.17778334 0.18467126 0.18564809\n",
      " 0.19273638 0.19153413 0.19313713 0.19829681 0.19556669 0.19579211\n",
      " 0.19316218 0.20077646 0.19997495 0.19644333 0.20343143 0.20641202\n",
      " 0.20726362 0.21823419 0.2144521  0.21162179 0.21282405 0.20999374\n",
      " 0.20480902 0.20348153 0.20771446 0.20964308 0.21001879 0.21828428\n",
      " 0.21763306 0.2210645  0.21613024 0.21314966 0.21517846 0.21735755\n",
      " 0.21956168 0.21635567 0.22289292 0.22444584 0.22232937 0.21475266\n",
      " 0.21122104 0.18822793 0.18036318 0.18274264 0.17871008 0.17815905\n",
      " 0.1777082  0.18189105 0.17685661 0.17465247 0.1682154  0.16944271\n",
      " 0.17282405 0.17630557 0.18604884 0.17417658 0.17976205 0.18371947\n",
      " 0.19356293 0.20240451 0.20295554 0.20693801 0.20753914 0.19053225\n",
      " 0.17713212 0.17868503 0.18164058 0.17397621 0.16874139 0.17257358\n",
      " 0.17816165 0.17615911 0.17475665 0.17368081 0.17272303 0.17176566\n",
      " 0.17076018 0.16970009 0.16859904 0.1674777  0.16635633 0.16525161\n",
      " 0.16417518 0.16313404 0.16213086 0.16116479 0.16023251 0.15932852\n",
      " 0.15844691 0.15758088 0.15672424 0.15587142]\n",
      "22 day output [[0.155018]]\n",
      "23 day input [0.16568566 0.17179712 0.1764809  0.17635567 0.183469   0.18562304\n",
      " 0.18219161 0.18126487 0.17778334 0.18467126 0.18564809 0.19273638\n",
      " 0.19153413 0.19313713 0.19829681 0.19556669 0.19579211 0.19316218\n",
      " 0.20077646 0.19997495 0.19644333 0.20343143 0.20641202 0.20726362\n",
      " 0.21823419 0.2144521  0.21162179 0.21282405 0.20999374 0.20480902\n",
      " 0.20348153 0.20771446 0.20964308 0.21001879 0.21828428 0.21763306\n",
      " 0.2210645  0.21613024 0.21314966 0.21517846 0.21735755 0.21956168\n",
      " 0.21635567 0.22289292 0.22444584 0.22232937 0.21475266 0.21122104\n",
      " 0.18822793 0.18036318 0.18274264 0.17871008 0.17815905 0.1777082\n",
      " 0.18189105 0.17685661 0.17465247 0.1682154  0.16944271 0.17282405\n",
      " 0.17630557 0.18604884 0.17417658 0.17976205 0.18371947 0.19356293\n",
      " 0.20240451 0.20295554 0.20693801 0.20753914 0.19053225 0.17713212\n",
      " 0.17868503 0.18164058 0.17397621 0.16874139 0.17257358 0.17816165\n",
      " 0.17615911 0.17475665 0.17368081 0.17272303 0.17176566 0.17076018\n",
      " 0.16970009 0.16859904 0.1674777  0.16635633 0.16525161 0.16417518\n",
      " 0.16313404 0.16213086 0.16116479 0.16023251 0.15932852 0.15844691\n",
      " 0.15758088 0.15672424 0.15587142 0.155018  ]\n",
      "23 day output [[0.15416068]]\n",
      "24 day input [0.17179712 0.1764809  0.17635567 0.183469   0.18562304 0.18219161\n",
      " 0.18126487 0.17778334 0.18467126 0.18564809 0.19273638 0.19153413\n",
      " 0.19313713 0.19829681 0.19556669 0.19579211 0.19316218 0.20077646\n",
      " 0.19997495 0.19644333 0.20343143 0.20641202 0.20726362 0.21823419\n",
      " 0.2144521  0.21162179 0.21282405 0.20999374 0.20480902 0.20348153\n",
      " 0.20771446 0.20964308 0.21001879 0.21828428 0.21763306 0.2210645\n",
      " 0.21613024 0.21314966 0.21517846 0.21735755 0.21956168 0.21635567\n",
      " 0.22289292 0.22444584 0.22232937 0.21475266 0.21122104 0.18822793\n",
      " 0.18036318 0.18274264 0.17871008 0.17815905 0.1777082  0.18189105\n",
      " 0.17685661 0.17465247 0.1682154  0.16944271 0.17282405 0.17630557\n",
      " 0.18604884 0.17417658 0.17976205 0.18371947 0.19356293 0.20240451\n",
      " 0.20295554 0.20693801 0.20753914 0.19053225 0.17713212 0.17868503\n",
      " 0.18164058 0.17397621 0.16874139 0.17257358 0.17816165 0.17615911\n",
      " 0.17475665 0.17368081 0.17272303 0.17176566 0.17076018 0.16970009\n",
      " 0.16859904 0.1674777  0.16635633 0.16525161 0.16417518 0.16313404\n",
      " 0.16213086 0.16116479 0.16023251 0.15932852 0.15844691 0.15758088\n",
      " 0.15672424 0.15587142 0.155018   0.15416068]\n",
      "24 day output [[0.15329757]]\n",
      "25 day input [0.1764809  0.17635567 0.183469   0.18562304 0.18219161 0.18126487\n",
      " 0.17778334 0.18467126 0.18564809 0.19273638 0.19153413 0.19313713\n",
      " 0.19829681 0.19556669 0.19579211 0.19316218 0.20077646 0.19997495\n",
      " 0.19644333 0.20343143 0.20641202 0.20726362 0.21823419 0.2144521\n",
      " 0.21162179 0.21282405 0.20999374 0.20480902 0.20348153 0.20771446\n",
      " 0.20964308 0.21001879 0.21828428 0.21763306 0.2210645  0.21613024\n",
      " 0.21314966 0.21517846 0.21735755 0.21956168 0.21635567 0.22289292\n",
      " 0.22444584 0.22232937 0.21475266 0.21122104 0.18822793 0.18036318\n",
      " 0.18274264 0.17871008 0.17815905 0.1777082  0.18189105 0.17685661\n",
      " 0.17465247 0.1682154  0.16944271 0.17282405 0.17630557 0.18604884\n",
      " 0.17417658 0.17976205 0.18371947 0.19356293 0.20240451 0.20295554\n",
      " 0.20693801 0.20753914 0.19053225 0.17713212 0.17868503 0.18164058\n",
      " 0.17397621 0.16874139 0.17257358 0.17816165 0.17615911 0.17475665\n",
      " 0.17368081 0.17272303 0.17176566 0.17076018 0.16970009 0.16859904\n",
      " 0.1674777  0.16635633 0.16525161 0.16417518 0.16313404 0.16213086\n",
      " 0.16116479 0.16023251 0.15932852 0.15844691 0.15758088 0.15672424\n",
      " 0.15587142 0.155018   0.15416068 0.15329757]\n"
     ]
    },
    {
     "name": "stdout",
     "output_type": "stream",
     "text": [
      "25 day output [[0.15242782]]\n",
      "26 day input [0.17635567 0.183469   0.18562304 0.18219161 0.18126487 0.17778334\n",
      " 0.18467126 0.18564809 0.19273638 0.19153413 0.19313713 0.19829681\n",
      " 0.19556669 0.19579211 0.19316218 0.20077646 0.19997495 0.19644333\n",
      " 0.20343143 0.20641202 0.20726362 0.21823419 0.2144521  0.21162179\n",
      " 0.21282405 0.20999374 0.20480902 0.20348153 0.20771446 0.20964308\n",
      " 0.21001879 0.21828428 0.21763306 0.2210645  0.21613024 0.21314966\n",
      " 0.21517846 0.21735755 0.21956168 0.21635567 0.22289292 0.22444584\n",
      " 0.22232937 0.21475266 0.21122104 0.18822793 0.18036318 0.18274264\n",
      " 0.17871008 0.17815905 0.1777082  0.18189105 0.17685661 0.17465247\n",
      " 0.1682154  0.16944271 0.17282405 0.17630557 0.18604884 0.17417658\n",
      " 0.17976205 0.18371947 0.19356293 0.20240451 0.20295554 0.20693801\n",
      " 0.20753914 0.19053225 0.17713212 0.17868503 0.18164058 0.17397621\n",
      " 0.16874139 0.17257358 0.17816165 0.17615911 0.17475665 0.17368081\n",
      " 0.17272303 0.17176566 0.17076018 0.16970009 0.16859904 0.1674777\n",
      " 0.16635633 0.16525161 0.16417518 0.16313404 0.16213086 0.16116479\n",
      " 0.16023251 0.15932852 0.15844691 0.15758088 0.15672424 0.15587142\n",
      " 0.155018   0.15416068 0.15329757 0.15242782]\n",
      "26 day output [[0.15155163]]\n",
      "27 day input [0.183469   0.18562304 0.18219161 0.18126487 0.17778334 0.18467126\n",
      " 0.18564809 0.19273638 0.19153413 0.19313713 0.19829681 0.19556669\n",
      " 0.19579211 0.19316218 0.20077646 0.19997495 0.19644333 0.20343143\n",
      " 0.20641202 0.20726362 0.21823419 0.2144521  0.21162179 0.21282405\n",
      " 0.20999374 0.20480902 0.20348153 0.20771446 0.20964308 0.21001879\n",
      " 0.21828428 0.21763306 0.2210645  0.21613024 0.21314966 0.21517846\n",
      " 0.21735755 0.21956168 0.21635567 0.22289292 0.22444584 0.22232937\n",
      " 0.21475266 0.21122104 0.18822793 0.18036318 0.18274264 0.17871008\n",
      " 0.17815905 0.1777082  0.18189105 0.17685661 0.17465247 0.1682154\n",
      " 0.16944271 0.17282405 0.17630557 0.18604884 0.17417658 0.17976205\n",
      " 0.18371947 0.19356293 0.20240451 0.20295554 0.20693801 0.20753914\n",
      " 0.19053225 0.17713212 0.17868503 0.18164058 0.17397621 0.16874139\n",
      " 0.17257358 0.17816165 0.17615911 0.17475665 0.17368081 0.17272303\n",
      " 0.17176566 0.17076018 0.16970009 0.16859904 0.1674777  0.16635633\n",
      " 0.16525161 0.16417518 0.16313404 0.16213086 0.16116479 0.16023251\n",
      " 0.15932852 0.15844691 0.15758088 0.15672424 0.15587142 0.155018\n",
      " 0.15416068 0.15329757 0.15242782 0.15155163]\n",
      "27 day output [[0.15067005]]\n",
      "28 day input [0.18562304 0.18219161 0.18126487 0.17778334 0.18467126 0.18564809\n",
      " 0.19273638 0.19153413 0.19313713 0.19829681 0.19556669 0.19579211\n",
      " 0.19316218 0.20077646 0.19997495 0.19644333 0.20343143 0.20641202\n",
      " 0.20726362 0.21823419 0.2144521  0.21162179 0.21282405 0.20999374\n",
      " 0.20480902 0.20348153 0.20771446 0.20964308 0.21001879 0.21828428\n",
      " 0.21763306 0.2210645  0.21613024 0.21314966 0.21517846 0.21735755\n",
      " 0.21956168 0.21635567 0.22289292 0.22444584 0.22232937 0.21475266\n",
      " 0.21122104 0.18822793 0.18036318 0.18274264 0.17871008 0.17815905\n",
      " 0.1777082  0.18189105 0.17685661 0.17465247 0.1682154  0.16944271\n",
      " 0.17282405 0.17630557 0.18604884 0.17417658 0.17976205 0.18371947\n",
      " 0.19356293 0.20240451 0.20295554 0.20693801 0.20753914 0.19053225\n",
      " 0.17713212 0.17868503 0.18164058 0.17397621 0.16874139 0.17257358\n",
      " 0.17816165 0.17615911 0.17475665 0.17368081 0.17272303 0.17176566\n",
      " 0.17076018 0.16970009 0.16859904 0.1674777  0.16635633 0.16525161\n",
      " 0.16417518 0.16313404 0.16213086 0.16116479 0.16023251 0.15932852\n",
      " 0.15844691 0.15758088 0.15672424 0.15587142 0.155018   0.15416068\n",
      " 0.15329757 0.15242782 0.15155163 0.15067005]\n",
      "28 day output [[0.14978456]]\n",
      "29 day input [0.18219161 0.18126487 0.17778334 0.18467126 0.18564809 0.19273638\n",
      " 0.19153413 0.19313713 0.19829681 0.19556669 0.19579211 0.19316218\n",
      " 0.20077646 0.19997495 0.19644333 0.20343143 0.20641202 0.20726362\n",
      " 0.21823419 0.2144521  0.21162179 0.21282405 0.20999374 0.20480902\n",
      " 0.20348153 0.20771446 0.20964308 0.21001879 0.21828428 0.21763306\n",
      " 0.2210645  0.21613024 0.21314966 0.21517846 0.21735755 0.21956168\n",
      " 0.21635567 0.22289292 0.22444584 0.22232937 0.21475266 0.21122104\n",
      " 0.18822793 0.18036318 0.18274264 0.17871008 0.17815905 0.1777082\n",
      " 0.18189105 0.17685661 0.17465247 0.1682154  0.16944271 0.17282405\n",
      " 0.17630557 0.18604884 0.17417658 0.17976205 0.18371947 0.19356293\n",
      " 0.20240451 0.20295554 0.20693801 0.20753914 0.19053225 0.17713212\n",
      " 0.17868503 0.18164058 0.17397621 0.16874139 0.17257358 0.17816165\n",
      " 0.17615911 0.17475665 0.17368081 0.17272303 0.17176566 0.17076018\n",
      " 0.16970009 0.16859904 0.1674777  0.16635633 0.16525161 0.16417518\n",
      " 0.16313404 0.16213086 0.16116479 0.16023251 0.15932852 0.15844691\n",
      " 0.15758088 0.15672424 0.15587142 0.155018   0.15416068 0.15329757\n",
      " 0.15242782 0.15155163 0.15067005 0.14978456]\n",
      "29 day output [[0.14889708]]\n",
      "[[0.1781616508960724], [0.1761591136455536], [0.17475664615631104], [0.17368081212043762], [0.17272302508354187], [0.17176565527915955], [0.17076018452644348], [0.16970008611679077], [0.16859903931617737], [0.16747769713401794], [0.16635632514953613], [0.16525161266326904], [0.16417518258094788], [0.16313403844833374], [0.16213086247444153], [0.161164790391922], [0.1602325141429901], [0.15932852029800415], [0.15844690799713135], [0.1575808823108673], [0.1567242443561554], [0.1558714210987091], [0.15501800179481506], [0.15416067838668823], [0.1532975733280182], [0.1524278223514557], [0.15155163407325745], [0.15067005157470703], [0.14978456497192383], [0.14889708161354065]]\n"
     ]
    }
   ],
   "source": [
    "from numpy import array\n",
    "\n",
    "lst_output=[]\n",
    "n_steps=100\n",
    "i=0\n",
    "\n",
    "while(i<30):\n",
    "    \n",
    "    if(len(temp_input)>100):\n",
    "        #print(temp_input)\n",
    "        x_input=np.array(temp_input[1:])\n",
    "        print(\"{} day input {}\".format(i,x_input))\n",
    "        x_input=x_input.reshape(1,-1)\n",
    "        x_input= x_input.reshape((1, n_steps, 1))\n",
    "        \n",
    "        #print(x_input)\n",
    "        yhat = model.predict(x_input, verbose=0)\n",
    "        print(\"{} day output {}\".format(i,yhat))\n",
    "        temp_input.extend(yhat[0].tolist())\n",
    "        temp_input=temp_input[1:]\n",
    "        \n",
    "        #print(temp_input)\n",
    "        lst_output.extend(yhat.tolist())\n",
    "        i=i+1\n",
    "        \n",
    "    else:\n",
    "        x_input = x_input.reshape((1, n_steps, 1))\n",
    "        yhat = model.predict(x_input, verbose=0)\n",
    "        print(yhat[0])\n",
    "        temp_input.extend(yhat[0].tolist())\n",
    "        print(len(temp_input))\n",
    "        lst_output.extend(yhat.tolist())\n",
    "        i=i+1\n",
    "\n",
    "\n",
    "print(lst_output)"
   ]
  },
  {
   "cell_type": "code",
   "execution_count": 58,
   "id": "52e0bc08",
   "metadata": {},
   "outputs": [],
   "source": [
    "day_new = np.arange(1,101)\n",
    "day_pred = np.arange(101,131)"
   ]
  },
  {
   "cell_type": "code",
   "execution_count": 59,
   "id": "6c1fdc24",
   "metadata": {},
   "outputs": [],
   "source": [
    "import matplotlib.pyplot as plt"
   ]
  },
  {
   "cell_type": "code",
   "execution_count": 60,
   "id": "190e81d6",
   "metadata": {},
   "outputs": [
    {
     "data": {
      "text/plain": [
       "1257"
      ]
     },
     "execution_count": 60,
     "metadata": {},
     "output_type": "execute_result"
    }
   ],
   "source": [
    "len(df1)"
   ]
  },
  {
   "cell_type": "code",
   "execution_count": 61,
   "id": "0ece4c78",
   "metadata": {},
   "outputs": [],
   "source": [
    "df3 = df1.tolist()\n",
    "df3.extend(lst_output)"
   ]
  },
  {
   "cell_type": "code",
   "execution_count": 64,
   "id": "199c1cae",
   "metadata": {},
   "outputs": [
    {
     "data": {
      "text/plain": [
       "[<matplotlib.lines.Line2D at 0x1b53d481c90>]"
      ]
     },
     "execution_count": 64,
     "metadata": {},
     "output_type": "execute_result"
    },
    {
     "data": {
      "image/png": "[encoded data removed]",
      "text/plain": [
       "<Figure size 640x480 with 1 Axes>"
      ]
     },
     "metadata": {},
     "output_type": "display_data"
    }
   ],
   "source": [
    "plt.plot(day_new, scaler.inverse_transform(df1[1157:]))\n",
    "plt.plot(day_pred, scaler.inverse_transform(lst_output))"
   ]
  },
  {
   "cell_type": "code",
   "execution_count": 66,
   "id": "dd173e46",
   "metadata": {},
   "outputs": [
    {
     "data": {
      "text/plain": [
       "[<matplotlib.lines.Line2D at 0x1b5408fbf10>]"
      ]
     },
     "execution_count": 66,
     "metadata": {},
     "output_type": "execute_result"
    },
    {
     "data": {
      "image/png": "[encoded data removed]",
      "text/plain": [
       "<Figure size 640x480 with 1 Axes>"
      ]
     },
     "metadata": {},
     "output_type": "display_data"
    }
   ],
   "source": [
    "df3 = df1.tolist()\n",
    "df3.extend(lst_output)\n",
    "plt.plot(df3[1000:])"
   ]
  },
  {
   "cell_type": "code",
   "execution_count": null,
   "id": "e571b73e",
   "metadata": {},
   "outputs": [],
   "source": []
  }
 ],
 "metadata": {
  "kernelspec": {
   "display_name": "Python 3 (ipykernel)",
   "language": "python",
   "name": "python3"
  },
  "language_info": {
   "codemirror_mode": {
    "name": "ipython",
    "version": 3
   },
   "file_extension": ".py",
   "mimetype": "text/x-python",
   "name": "python",
   "nbconvert_exporter": "python",
   "pygments_lexer": "ipython3",
   "version": "3.11.4"
  }
 },
 "nbformat": 4,
 "nbformat_minor": 5
}
